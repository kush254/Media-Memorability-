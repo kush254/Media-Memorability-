{
 "cells": [
  {
   "cell_type": "code",
   "execution_count": 1,
   "metadata": {},
   "outputs": [],
   "source": [
    "import pandas as pd\n",
    "import numpy as np\n",
    "import time\n",
    "import os\n",
    "from pathlib import Path\n",
    "import base64\n",
    "from IPython.display import HTML, display\n",
    "from keras import Sequential\n",
    "from keras import layers\n",
    "from keras import regularizers\n",
    "from string import punctuation\n",
    "import pyprind\n",
    "from collections import Counter\n",
    "from keras.preprocessing.text import Tokenizer\n",
    "from sklearn.model_selection import train_test_split\n",
    "import matplotlib.pyplot as plt\n",
    "from sklearn.model_selection import train_test_split"
   ]
  },
  {
   "cell_type": "code",
   "execution_count": 2,
   "metadata": {},
   "outputs": [
    {
     "data": {
      "text/plain": [
       "'C:\\\\Users\\\\i318517\\\\Desktop\\\\MSC\\\\Machine Learning\\\\CA684_Assignment'"
      ]
     },
     "execution_count": 2,
     "metadata": {},
     "output_type": "execute_result"
    }
   ],
   "source": [
    "os.getcwd()"
   ]
  },
  {
   "cell_type": "code",
   "execution_count": 3,
   "metadata": {},
   "outputs": [
    {
     "data": {
      "text/plain": [
       "['.ipynb_checkpoints',\n",
       " 'CA684 Assignment_Overview',\n",
       " 'CA684 Assignment_Overview-20210319T235625Z-001.zip',\n",
       " 'Dev-set',\n",
       " 'Dev-set.zip',\n",
       " 'interim-layout.docx',\n",
       " 'Kushagra_Srivastava_ 20214989_predicting_memorability.ipynb',\n",
       " 'Media Memorability Prediction.ipynb',\n",
       " 'Test-set',\n",
       " 'Test-set-20210423T193446Z-001.zip',\n",
       " 'Tutorials',\n",
       " 'Tutorials-20210320T000635Z-001.zip',\n",
       " '~WRL3281.tmp']"
      ]
     },
     "execution_count": 3,
     "metadata": {},
     "output_type": "execute_result"
    }
   ],
   "source": [
    "os.listdir()"
   ]
  },
  {
   "cell_type": "markdown",
   "metadata": {},
   "source": [
    "In this notebook we first built model on individual features namely C3D, HMP and aesthetic features and then we later combine the features to built new models and compare the performance of one model against the other."
   ]
  },
  {
   "cell_type": "code",
   "execution_count": 4,
   "metadata": {},
   "outputs": [
    {
     "data": {
      "text/html": [
       "<div>\n",
       "<style scoped>\n",
       "    .dataframe tbody tr th:only-of-type {\n",
       "        vertical-align: middle;\n",
       "    }\n",
       "\n",
       "    .dataframe tbody tr th {\n",
       "        vertical-align: top;\n",
       "    }\n",
       "\n",
       "    .dataframe thead th {\n",
       "        text-align: right;\n",
       "    }\n",
       "</style>\n",
       "<table border=\"1\" class=\"dataframe\">\n",
       "  <thead>\n",
       "    <tr style=\"text-align: right;\">\n",
       "      <th></th>\n",
       "      <th>video</th>\n",
       "      <th>short-term_memorability</th>\n",
       "      <th>nb_short-term_annotations</th>\n",
       "      <th>long-term_memorability</th>\n",
       "      <th>nb_long-term_annotations</th>\n",
       "    </tr>\n",
       "  </thead>\n",
       "  <tbody>\n",
       "    <tr>\n",
       "      <th>0</th>\n",
       "      <td>video3.webm</td>\n",
       "      <td>0.924</td>\n",
       "      <td>34</td>\n",
       "      <td>0.846</td>\n",
       "      <td>13</td>\n",
       "    </tr>\n",
       "    <tr>\n",
       "      <th>1</th>\n",
       "      <td>video4.webm</td>\n",
       "      <td>0.923</td>\n",
       "      <td>33</td>\n",
       "      <td>0.667</td>\n",
       "      <td>12</td>\n",
       "    </tr>\n",
       "    <tr>\n",
       "      <th>2</th>\n",
       "      <td>video6.webm</td>\n",
       "      <td>0.863</td>\n",
       "      <td>33</td>\n",
       "      <td>0.700</td>\n",
       "      <td>10</td>\n",
       "    </tr>\n",
       "    <tr>\n",
       "      <th>3</th>\n",
       "      <td>video8.webm</td>\n",
       "      <td>0.922</td>\n",
       "      <td>33</td>\n",
       "      <td>0.818</td>\n",
       "      <td>11</td>\n",
       "    </tr>\n",
       "    <tr>\n",
       "      <th>4</th>\n",
       "      <td>video10.webm</td>\n",
       "      <td>0.950</td>\n",
       "      <td>34</td>\n",
       "      <td>0.900</td>\n",
       "      <td>10</td>\n",
       "    </tr>\n",
       "  </tbody>\n",
       "</table>\n",
       "</div>"
      ],
      "text/plain": [
       "          video  short-term_memorability  nb_short-term_annotations  \\\n",
       "0   video3.webm                    0.924                         34   \n",
       "1   video4.webm                    0.923                         33   \n",
       "2   video6.webm                    0.863                         33   \n",
       "3   video8.webm                    0.922                         33   \n",
       "4  video10.webm                    0.950                         34   \n",
       "\n",
       "   long-term_memorability  nb_long-term_annotations  \n",
       "0                   0.846                        13  \n",
       "1                   0.667                        12  \n",
       "2                   0.700                        10  \n",
       "3                   0.818                        11  \n",
       "4                   0.900                        10  "
      ]
     },
     "execution_count": 4,
     "metadata": {},
     "output_type": "execute_result"
    }
   ],
   "source": [
    "ground_truth_file = 'C:\\\\Users\\\\i318517\\\\Desktop\\\\MSC\\\\Machine Learning\\\\CA684_Assignment\\\\Dev-set\\\\Ground-truth\\\\ground-truth.csv'\n",
    "#ground_truth_file = r\"C:\\Users\\i318517\\Desktop\\MSC\\Machine Learning\\CA684_Assignment\\Dev-set\\Ground-truth\\ground-truth_dev-set.csv\"\n",
    "labels = pd.read_csv(ground_truth_file)\n",
    "labels.head()"
   ]
  },
  {
   "cell_type": "code",
   "execution_count": 5,
   "metadata": {},
   "outputs": [
    {
     "data": {
      "text/html": [
       "<div>\n",
       "<style scoped>\n",
       "    .dataframe tbody tr th:only-of-type {\n",
       "        vertical-align: middle;\n",
       "    }\n",
       "\n",
       "    .dataframe tbody tr th {\n",
       "        vertical-align: top;\n",
       "    }\n",
       "\n",
       "    .dataframe thead th {\n",
       "        text-align: right;\n",
       "    }\n",
       "</style>\n",
       "<table border=\"1\" class=\"dataframe\">\n",
       "  <thead>\n",
       "    <tr style=\"text-align: right;\">\n",
       "      <th></th>\n",
       "      <th>short-term_memorability</th>\n",
       "      <th>nb_short-term_annotations</th>\n",
       "      <th>long-term_memorability</th>\n",
       "      <th>nb_long-term_annotations</th>\n",
       "    </tr>\n",
       "  </thead>\n",
       "  <tbody>\n",
       "    <tr>\n",
       "      <th>count</th>\n",
       "      <td>6000.000000</td>\n",
       "      <td>6000.000000</td>\n",
       "      <td>6000.000000</td>\n",
       "      <td>6000.000000</td>\n",
       "    </tr>\n",
       "    <tr>\n",
       "      <th>mean</th>\n",
       "      <td>0.860243</td>\n",
       "      <td>36.291500</td>\n",
       "      <td>0.778941</td>\n",
       "      <td>12.764667</td>\n",
       "    </tr>\n",
       "    <tr>\n",
       "      <th>std</th>\n",
       "      <td>0.080655</td>\n",
       "      <td>8.356285</td>\n",
       "      <td>0.144692</td>\n",
       "      <td>3.544815</td>\n",
       "    </tr>\n",
       "    <tr>\n",
       "      <th>min</th>\n",
       "      <td>0.388000</td>\n",
       "      <td>30.000000</td>\n",
       "      <td>0.000000</td>\n",
       "      <td>9.000000</td>\n",
       "    </tr>\n",
       "    <tr>\n",
       "      <th>25%</th>\n",
       "      <td>0.811000</td>\n",
       "      <td>33.000000</td>\n",
       "      <td>0.700000</td>\n",
       "      <td>10.000000</td>\n",
       "    </tr>\n",
       "    <tr>\n",
       "      <th>50%</th>\n",
       "      <td>0.867000</td>\n",
       "      <td>34.000000</td>\n",
       "      <td>0.800000</td>\n",
       "      <td>12.000000</td>\n",
       "    </tr>\n",
       "    <tr>\n",
       "      <th>75%</th>\n",
       "      <td>0.923000</td>\n",
       "      <td>34.000000</td>\n",
       "      <td>0.900000</td>\n",
       "      <td>14.000000</td>\n",
       "    </tr>\n",
       "    <tr>\n",
       "      <th>max</th>\n",
       "      <td>0.989000</td>\n",
       "      <td>100.000000</td>\n",
       "      <td>1.000000</td>\n",
       "      <td>40.000000</td>\n",
       "    </tr>\n",
       "  </tbody>\n",
       "</table>\n",
       "</div>"
      ],
      "text/plain": [
       "       short-term_memorability  nb_short-term_annotations  \\\n",
       "count              6000.000000                6000.000000   \n",
       "mean                  0.860243                  36.291500   \n",
       "std                   0.080655                   8.356285   \n",
       "min                   0.388000                  30.000000   \n",
       "25%                   0.811000                  33.000000   \n",
       "50%                   0.867000                  34.000000   \n",
       "75%                   0.923000                  34.000000   \n",
       "max                   0.989000                 100.000000   \n",
       "\n",
       "       long-term_memorability  nb_long-term_annotations  \n",
       "count             6000.000000               6000.000000  \n",
       "mean                 0.778941                 12.764667  \n",
       "std                  0.144692                  3.544815  \n",
       "min                  0.000000                  9.000000  \n",
       "25%                  0.700000                 10.000000  \n",
       "50%                  0.800000                 12.000000  \n",
       "75%                  0.900000                 14.000000  \n",
       "max                  1.000000                 40.000000  "
      ]
     },
     "execution_count": 5,
     "metadata": {},
     "output_type": "execute_result"
    }
   ],
   "source": [
    "labels.describe()"
   ]
  },
  {
   "cell_type": "code",
   "execution_count": 6,
   "metadata": {},
   "outputs": [],
   "source": [
    "vid = labels.video.values"
   ]
  },
  {
   "cell_type": "code",
   "execution_count": 7,
   "metadata": {},
   "outputs": [],
   "source": [
    "# get spearman score\n",
    "def Get_score(Y_pred,Y_true):\n",
    "    '''Calculate the Spearmann\"s correlation coefficient'''\n",
    "    Y_pred = np.squeeze(Y_pred)\n",
    "    Y_true = np.squeeze(Y_true)\n",
    "    if Y_pred.shape != Y_true.shape:\n",
    "        print('Input shapes don\\'t match!')\n",
    "    else:\n",
    "        if len(Y_pred.shape) == 1:\n",
    "            Res = pd.DataFrame({'Y_true':Y_true,'Y_pred':Y_pred})\n",
    "            score_mat = Res[['Y_true','Y_pred']].corr(method='spearman',min_periods=1)\n",
    "            print('The Spearman\\'s correlation coefficient is: %.3f' % score_mat.iloc[1][0])\n",
    "        else:\n",
    "            for ii in range(Y_pred.shape[1]):\n",
    "                Get_score(Y_pred[:,ii],Y_true[:,ii])"
   ]
  },
  {
   "cell_type": "markdown",
   "metadata": {},
   "source": [
    "# C3D Features"
   ]
  },
  {
   "cell_type": "markdown",
   "metadata": {},
   "source": [
    "Extraction training and validation of C3D features"
   ]
  },
  {
   "cell_type": "code",
   "execution_count": 8,
   "metadata": {},
   "outputs": [],
   "source": [
    "def read_C3D(fname):\n",
    "    \"\"\"Scan vectors from file\"\"\"\n",
    "    with open(fname) as f:\n",
    "        for line in f:\n",
    "            C3D =[float(item) for item in line.split()] # convert to float type, using default separator\n",
    "    return C3D\n"
   ]
  },
  {
   "cell_type": "code",
   "execution_count": 9,
   "metadata": {},
   "outputs": [],
   "source": [
    "C3D_Feat_path = 'C:/Users/i318517/Desktop/MSC/Machine Learning/CA684_Assignment/Dev-set/'\n",
    "C3D_Features = pd.DataFrame({'video': vid,\n",
    "                   'C3D': [read_C3D(C3D_Feat_path+'C3D'+'/'+os.path.splitext(item)[0]+'.txt') for item in vid],\n",
    "                       })\n"
   ]
  },
  {
   "cell_type": "code",
   "execution_count": 10,
   "metadata": {},
   "outputs": [
    {
     "data": {
      "text/html": [
       "<div>\n",
       "<style scoped>\n",
       "    .dataframe tbody tr th:only-of-type {\n",
       "        vertical-align: middle;\n",
       "    }\n",
       "\n",
       "    .dataframe tbody tr th {\n",
       "        vertical-align: top;\n",
       "    }\n",
       "\n",
       "    .dataframe thead th {\n",
       "        text-align: right;\n",
       "    }\n",
       "</style>\n",
       "<table border=\"1\" class=\"dataframe\">\n",
       "  <thead>\n",
       "    <tr style=\"text-align: right;\">\n",
       "      <th></th>\n",
       "      <th>video</th>\n",
       "      <th>C3D</th>\n",
       "    </tr>\n",
       "  </thead>\n",
       "  <tbody>\n",
       "    <tr>\n",
       "      <th>0</th>\n",
       "      <td>video3.webm</td>\n",
       "      <td>[0.02024942, 0.0015778, 0.00082625, 0.00094509...</td>\n",
       "    </tr>\n",
       "    <tr>\n",
       "      <th>1</th>\n",
       "      <td>video4.webm</td>\n",
       "      <td>[0.000118, 0.00089075, 0.00018769, 4.543e-05, ...</td>\n",
       "    </tr>\n",
       "    <tr>\n",
       "      <th>2</th>\n",
       "      <td>video6.webm</td>\n",
       "      <td>[0.01176522, 0.00074577, 0.00078353, 1.328e-05...</td>\n",
       "    </tr>\n",
       "    <tr>\n",
       "      <th>3</th>\n",
       "      <td>video8.webm</td>\n",
       "      <td>[0.00022343, 0.00016499, 7.35e-06, 1.615e-05, ...</td>\n",
       "    </tr>\n",
       "    <tr>\n",
       "      <th>4</th>\n",
       "      <td>video10.webm</td>\n",
       "      <td>[9.006e-05, 0.00061494, 0.00343634, 0.00128092...</td>\n",
       "    </tr>\n",
       "  </tbody>\n",
       "</table>\n",
       "</div>"
      ],
      "text/plain": [
       "          video                                                C3D\n",
       "0   video3.webm  [0.02024942, 0.0015778, 0.00082625, 0.00094509...\n",
       "1   video4.webm  [0.000118, 0.00089075, 0.00018769, 4.543e-05, ...\n",
       "2   video6.webm  [0.01176522, 0.00074577, 0.00078353, 1.328e-05...\n",
       "3   video8.webm  [0.00022343, 0.00016499, 7.35e-06, 1.615e-05, ...\n",
       "4  video10.webm  [9.006e-05, 0.00061494, 0.00343634, 0.00128092..."
      ]
     },
     "execution_count": 10,
     "metadata": {},
     "output_type": "execute_result"
    }
   ],
   "source": [
    "C3D_Features.head()"
   ]
  },
  {
   "cell_type": "code",
   "execution_count": 10,
   "metadata": {},
   "outputs": [],
   "source": [
    "C3D_X = np.stack(C3D_Features['C3D'].values)\n",
    "C3D_Y = labels[['short-term_memorability','long-term_memorability']].values"
   ]
  },
  {
   "cell_type": "code",
   "execution_count": 11,
   "metadata": {},
   "outputs": [],
   "source": [
    "#split into train and test set for training and validation\n",
    "C3D_X_train, C3D_X_test, C3D_Y_train, C3D_Y_test = train_test_split(C3D_X,C3D_Y, test_size=0.2, random_state=42)"
   ]
  },
  {
   "cell_type": "markdown",
   "metadata": {},
   "source": [
    "FIRST RUN results : \n",
    "The Spearman's correlation coefficient is: 0.31\n",
    "The Spearman's correlation coefficient is: 0.114"
   ]
  },
  {
   "cell_type": "code",
   "execution_count": 12,
   "metadata": {},
   "outputs": [
    {
     "name": "stdout",
     "output_type": "stream",
     "text": [
      "The Spearman's correlation coefficient is: 0.327\n",
      "The Spearman's correlation coefficient is: 0.099\n"
     ]
    }
   ],
   "source": [
    "#random forest C3D (SECOND RUN)\n",
    "from sklearn.ensemble import RandomForestRegressor\n",
    "C3D_clf = RandomForestRegressor()\n",
    "C3D_clf.fit(C3D_X_train,C3D_Y_train)\n",
    "pred_test_rfr = C3D_clf.predict(C3D_X_test)\n",
    "Get_score(pred_test_rfr, C3D_Y_test)"
   ]
  },
  {
   "cell_type": "markdown",
   "metadata": {},
   "source": [
    "# HMP Features"
   ]
  },
  {
   "cell_type": "markdown",
   "metadata": {},
   "source": [
    "Extraction training and validation of HMP features"
   ]
  },
  {
   "cell_type": "code",
   "execution_count": 13,
   "metadata": {},
   "outputs": [],
   "source": [
    "#HMP features\n",
    "def read_HMP(fname):\n",
    "    \"\"\"Scan HMP(Histogram of Motion Patterns) features from file\"\"\"\n",
    "    with open(fname) as f:\n",
    "        for line in f:\n",
    "            pairs=line.split()\n",
    "            HMP_temp = { int(p.split(':')[0]) : float(p.split(':')[1]) for p in pairs}\n",
    "    # there are 6075 bins, fill zeros\n",
    "    HMP = np.zeros(6075)\n",
    "    for idx in HMP_temp.keys():\n",
    "        HMP[idx-1] = HMP_temp[idx]            \n",
    "    return HMP"
   ]
  },
  {
   "cell_type": "code",
   "execution_count": 14,
   "metadata": {},
   "outputs": [],
   "source": [
    "HMP_Feat_path = 'C:/Users/i318517/Desktop/MSC/Machine Learning/CA684_Assignment/Dev-set/'\n",
    "# Load video related features first\n",
    "# it helps with the organization of the video names\n",
    "vid = labels.video.values\n",
    "HMP_Features = pd.DataFrame({'video': vid,\n",
    "                   'HMP': [read_HMP(HMP_Feat_path+'HMP'+'/'+os.path.splitext(item)[0]+'.txt') for item in vid],\n",
    "                       })"
   ]
  },
  {
   "cell_type": "code",
   "execution_count": 15,
   "metadata": {},
   "outputs": [
    {
     "data": {
      "text/html": [
       "<div>\n",
       "<style scoped>\n",
       "    .dataframe tbody tr th:only-of-type {\n",
       "        vertical-align: middle;\n",
       "    }\n",
       "\n",
       "    .dataframe tbody tr th {\n",
       "        vertical-align: top;\n",
       "    }\n",
       "\n",
       "    .dataframe thead th {\n",
       "        text-align: right;\n",
       "    }\n",
       "</style>\n",
       "<table border=\"1\" class=\"dataframe\">\n",
       "  <thead>\n",
       "    <tr style=\"text-align: right;\">\n",
       "      <th></th>\n",
       "      <th>video</th>\n",
       "      <th>HMP</th>\n",
       "    </tr>\n",
       "  </thead>\n",
       "  <tbody>\n",
       "    <tr>\n",
       "      <th>0</th>\n",
       "      <td>video3.webm</td>\n",
       "      <td>[0.125563, 0.024036, 0.000314, 0.0, 0.015864, ...</td>\n",
       "    </tr>\n",
       "    <tr>\n",
       "      <th>1</th>\n",
       "      <td>video4.webm</td>\n",
       "      <td>[0.007526, 0.001421, 6.8e-05, 0.0, 0.001184, 0...</td>\n",
       "    </tr>\n",
       "    <tr>\n",
       "      <th>2</th>\n",
       "      <td>video6.webm</td>\n",
       "      <td>[0.109584, 0.018978, 0.000289, 0.0, 0.008774, ...</td>\n",
       "    </tr>\n",
       "    <tr>\n",
       "      <th>3</th>\n",
       "      <td>video8.webm</td>\n",
       "      <td>[0.120431, 0.013561, 0.000277, 0.0, 0.018974, ...</td>\n",
       "    </tr>\n",
       "    <tr>\n",
       "      <th>4</th>\n",
       "      <td>video10.webm</td>\n",
       "      <td>[0.005026, 0.001356, 5.5e-05, 0.0, 0.000665, 2...</td>\n",
       "    </tr>\n",
       "  </tbody>\n",
       "</table>\n",
       "</div>"
      ],
      "text/plain": [
       "          video                                                HMP\n",
       "0   video3.webm  [0.125563, 0.024036, 0.000314, 0.0, 0.015864, ...\n",
       "1   video4.webm  [0.007526, 0.001421, 6.8e-05, 0.0, 0.001184, 0...\n",
       "2   video6.webm  [0.109584, 0.018978, 0.000289, 0.0, 0.008774, ...\n",
       "3   video8.webm  [0.120431, 0.013561, 0.000277, 0.0, 0.018974, ...\n",
       "4  video10.webm  [0.005026, 0.001356, 5.5e-05, 0.0, 0.000665, 2..."
      ]
     },
     "execution_count": 15,
     "metadata": {},
     "output_type": "execute_result"
    }
   ],
   "source": [
    "HMP_Features.head()"
   ]
  },
  {
   "cell_type": "code",
   "execution_count": 16,
   "metadata": {},
   "outputs": [],
   "source": [
    "HMP_X = np.stack(HMP_Features['HMP'].values)\n",
    "HMP_Y = labels[['short-term_memorability','long-term_memorability']].values\n",
    "HMP_X_train, HMP_X_test, HMP_Y_train, HMP_Y_test = train_test_split(HMP_X,HMP_Y, test_size=0.2, random_state=42)"
   ]
  },
  {
   "cell_type": "code",
   "execution_count": 12,
   "metadata": {},
   "outputs": [
    {
     "name": "stdout",
     "output_type": "stream",
     "text": [
      "The Spearman's correlation coefficient is: 0.295\n",
      "The Spearman's correlation coefficient is: 0.112\n"
     ]
    }
   ],
   "source": [
    "from sklearn.ensemble import RandomForestRegressor\n",
    "HMP_clf = RandomForestRegressor()\n",
    "HMP_clf.fit(HMP_X_train,HMP_Y_train)\n",
    "pred_test_rfr = HMP_clf.predict(HMP_X_test)\n",
    "Get_score(pred_test_rfr, HMP_Y_test)"
   ]
  },
  {
   "cell_type": "markdown",
   "metadata": {},
   "source": [
    "# Aesthetic features"
   ]
  },
  {
   "cell_type": "markdown",
   "metadata": {},
   "source": [
    "The aesthetic features have been aggregated by mean and median. I have extracted each of the features and built separate\n",
    "models on them.The results showed that the long term memorability for model trained on mean features were significantly better the long term memorability for model trained with median features."
   ]
  },
  {
   "cell_type": "code",
   "execution_count": 37,
   "metadata": {},
   "outputs": [],
   "source": [
    "#function to read aethetic features\n",
    "def read_aesthetic_features(fname):\n",
    "    #Scan vectors from file\n",
    "    with open(fname) as f:\n",
    "        for line in f:\n",
    "            aesthetic =[float(item) for item in line.split(',')] # convert to float type, using default separator\n",
    "    return aesthetic\n"
   ]
  },
  {
   "cell_type": "code",
   "execution_count": 38,
   "metadata": {},
   "outputs": [],
   "source": [
    "#load aesthetic features \n",
    "aesthetic_path = 'C:/Users/i318517/Desktop/MSC/Machine Learning/CA684_Assignment/Dev-set/Aesthetic_Features/dev-set_aesthetic-features/features/aesthetic_visual_features/'\n",
    "vid = labels.video.values\n",
    "# read the mean aesthetic features\n",
    "aesthetic_features_mean = pd.DataFrame({'video': vid,\n",
    "                   'aesthetic_mean': [read_aesthetic_features(aesthetic_path+'aesthetic_feat_dev-set_mean'+'/'+os.path.splitext(item)[0]+'.txt') for item in vid],\n",
    "                       })"
   ]
  },
  {
   "cell_type": "code",
   "execution_count": 39,
   "metadata": {},
   "outputs": [
    {
     "data": {
      "text/html": [
       "<div>\n",
       "<style scoped>\n",
       "    .dataframe tbody tr th:only-of-type {\n",
       "        vertical-align: middle;\n",
       "    }\n",
       "\n",
       "    .dataframe tbody tr th {\n",
       "        vertical-align: top;\n",
       "    }\n",
       "\n",
       "    .dataframe thead th {\n",
       "        text-align: right;\n",
       "    }\n",
       "</style>\n",
       "<table border=\"1\" class=\"dataframe\">\n",
       "  <thead>\n",
       "    <tr style=\"text-align: right;\">\n",
       "      <th></th>\n",
       "      <th>video</th>\n",
       "      <th>aesthetic_mean</th>\n",
       "    </tr>\n",
       "  </thead>\n",
       "  <tbody>\n",
       "    <tr>\n",
       "      <th>0</th>\n",
       "      <td>video3.webm</td>\n",
       "      <td>[0.18389, 0.713733, 0.202302, 0.610132, 0.1242...</td>\n",
       "    </tr>\n",
       "    <tr>\n",
       "      <th>1</th>\n",
       "      <td>video4.webm</td>\n",
       "      <td>[0.147255, 0.550718, 0.460299, 0.424981, 0.341...</td>\n",
       "    </tr>\n",
       "    <tr>\n",
       "      <th>2</th>\n",
       "      <td>video6.webm</td>\n",
       "      <td>[0.063933, 0.826933, 0.214129, 0.719341, 0.130...</td>\n",
       "    </tr>\n",
       "    <tr>\n",
       "      <th>3</th>\n",
       "      <td>video8.webm</td>\n",
       "      <td>[0.367527, 0.133869, 0.746074, 0.169317, 0.696...</td>\n",
       "    </tr>\n",
       "    <tr>\n",
       "      <th>4</th>\n",
       "      <td>video10.webm</td>\n",
       "      <td>[0.402878, 0.389358, 0.564687, 0.400378, 0.471...</td>\n",
       "    </tr>\n",
       "  </tbody>\n",
       "</table>\n",
       "</div>"
      ],
      "text/plain": [
       "          video                                     aesthetic_mean\n",
       "0   video3.webm  [0.18389, 0.713733, 0.202302, 0.610132, 0.1242...\n",
       "1   video4.webm  [0.147255, 0.550718, 0.460299, 0.424981, 0.341...\n",
       "2   video6.webm  [0.063933, 0.826933, 0.214129, 0.719341, 0.130...\n",
       "3   video8.webm  [0.367527, 0.133869, 0.746074, 0.169317, 0.696...\n",
       "4  video10.webm  [0.402878, 0.389358, 0.564687, 0.400378, 0.471..."
      ]
     },
     "execution_count": 39,
     "metadata": {},
     "output_type": "execute_result"
    }
   ],
   "source": [
    "aesthetic_features_mean.head()"
   ]
  },
  {
   "cell_type": "code",
   "execution_count": 40,
   "metadata": {},
   "outputs": [],
   "source": [
    "#load median features\n",
    "aesthetic_features_median = pd.DataFrame({'video': vid,\n",
    "                   'aesthetic_median': [read_aesthetic_features(aesthetic_path+'aesthetic_feat_dev-set_median'+'/'+os.path.splitext(item)[0]+'.txt') for item in vid],\n",
    "                       })"
   ]
  },
  {
   "cell_type": "code",
   "execution_count": 41,
   "metadata": {},
   "outputs": [
    {
     "data": {
      "text/html": [
       "<div>\n",
       "<style scoped>\n",
       "    .dataframe tbody tr th:only-of-type {\n",
       "        vertical-align: middle;\n",
       "    }\n",
       "\n",
       "    .dataframe tbody tr th {\n",
       "        vertical-align: top;\n",
       "    }\n",
       "\n",
       "    .dataframe thead th {\n",
       "        text-align: right;\n",
       "    }\n",
       "</style>\n",
       "<table border=\"1\" class=\"dataframe\">\n",
       "  <thead>\n",
       "    <tr style=\"text-align: right;\">\n",
       "      <th></th>\n",
       "      <th>video</th>\n",
       "      <th>aesthetic_median</th>\n",
       "    </tr>\n",
       "  </thead>\n",
       "  <tbody>\n",
       "    <tr>\n",
       "      <th>0</th>\n",
       "      <td>video3.webm</td>\n",
       "      <td>[0.180874, 0.715626, 0.19893, 0.610453, 0.1216...</td>\n",
       "    </tr>\n",
       "    <tr>\n",
       "      <th>1</th>\n",
       "      <td>video4.webm</td>\n",
       "      <td>[0.146076, 0.55007, 0.460729, 0.424397, 0.3418...</td>\n",
       "    </tr>\n",
       "    <tr>\n",
       "      <th>2</th>\n",
       "      <td>video6.webm</td>\n",
       "      <td>[0.063898, 0.827439, 0.211925, 0.720297, 0.129...</td>\n",
       "    </tr>\n",
       "    <tr>\n",
       "      <th>3</th>\n",
       "      <td>video8.webm</td>\n",
       "      <td>[0.380539, 0.134683, 0.746891, 0.171604, 0.697...</td>\n",
       "    </tr>\n",
       "    <tr>\n",
       "      <th>4</th>\n",
       "      <td>video10.webm</td>\n",
       "      <td>[0.427258, 0.381448, 0.582746, 0.409475, 0.489...</td>\n",
       "    </tr>\n",
       "  </tbody>\n",
       "</table>\n",
       "</div>"
      ],
      "text/plain": [
       "          video                                   aesthetic_median\n",
       "0   video3.webm  [0.180874, 0.715626, 0.19893, 0.610453, 0.1216...\n",
       "1   video4.webm  [0.146076, 0.55007, 0.460729, 0.424397, 0.3418...\n",
       "2   video6.webm  [0.063898, 0.827439, 0.211925, 0.720297, 0.129...\n",
       "3   video8.webm  [0.380539, 0.134683, 0.746891, 0.171604, 0.697...\n",
       "4  video10.webm  [0.427258, 0.381448, 0.582746, 0.409475, 0.489..."
      ]
     },
     "execution_count": 41,
     "metadata": {},
     "output_type": "execute_result"
    }
   ],
   "source": [
    "aesthetic_features_median.head()"
   ]
  },
  {
   "cell_type": "code",
   "execution_count": 42,
   "metadata": {},
   "outputs": [
    {
     "data": {
      "text/html": [
       "<div>\n",
       "<style scoped>\n",
       "    .dataframe tbody tr th:only-of-type {\n",
       "        vertical-align: middle;\n",
       "    }\n",
       "\n",
       "    .dataframe tbody tr th {\n",
       "        vertical-align: top;\n",
       "    }\n",
       "\n",
       "    .dataframe thead th {\n",
       "        text-align: right;\n",
       "    }\n",
       "</style>\n",
       "<table border=\"1\" class=\"dataframe\">\n",
       "  <thead>\n",
       "    <tr style=\"text-align: right;\">\n",
       "      <th></th>\n",
       "      <th>video</th>\n",
       "      <th>aesthetic_mean</th>\n",
       "      <th>aesthetic_median</th>\n",
       "    </tr>\n",
       "  </thead>\n",
       "  <tbody>\n",
       "    <tr>\n",
       "      <th>0</th>\n",
       "      <td>video3.webm</td>\n",
       "      <td>[0.18389, 0.713733, 0.202302, 0.610132, 0.1242...</td>\n",
       "      <td>[0.180874, 0.715626, 0.19893, 0.610453, 0.1216...</td>\n",
       "    </tr>\n",
       "    <tr>\n",
       "      <th>1</th>\n",
       "      <td>video4.webm</td>\n",
       "      <td>[0.147255, 0.550718, 0.460299, 0.424981, 0.341...</td>\n",
       "      <td>[0.146076, 0.55007, 0.460729, 0.424397, 0.3418...</td>\n",
       "    </tr>\n",
       "    <tr>\n",
       "      <th>2</th>\n",
       "      <td>video6.webm</td>\n",
       "      <td>[0.063933, 0.826933, 0.214129, 0.719341, 0.130...</td>\n",
       "      <td>[0.063898, 0.827439, 0.211925, 0.720297, 0.129...</td>\n",
       "    </tr>\n",
       "    <tr>\n",
       "      <th>3</th>\n",
       "      <td>video8.webm</td>\n",
       "      <td>[0.367527, 0.133869, 0.746074, 0.169317, 0.696...</td>\n",
       "      <td>[0.380539, 0.134683, 0.746891, 0.171604, 0.697...</td>\n",
       "    </tr>\n",
       "    <tr>\n",
       "      <th>4</th>\n",
       "      <td>video10.webm</td>\n",
       "      <td>[0.402878, 0.389358, 0.564687, 0.400378, 0.471...</td>\n",
       "      <td>[0.427258, 0.381448, 0.582746, 0.409475, 0.489...</td>\n",
       "    </tr>\n",
       "  </tbody>\n",
       "</table>\n",
       "</div>"
      ],
      "text/plain": [
       "          video                                     aesthetic_mean  \\\n",
       "0   video3.webm  [0.18389, 0.713733, 0.202302, 0.610132, 0.1242...   \n",
       "1   video4.webm  [0.147255, 0.550718, 0.460299, 0.424981, 0.341...   \n",
       "2   video6.webm  [0.063933, 0.826933, 0.214129, 0.719341, 0.130...   \n",
       "3   video8.webm  [0.367527, 0.133869, 0.746074, 0.169317, 0.696...   \n",
       "4  video10.webm  [0.402878, 0.389358, 0.564687, 0.400378, 0.471...   \n",
       "\n",
       "                                    aesthetic_median  \n",
       "0  [0.180874, 0.715626, 0.19893, 0.610453, 0.1216...  \n",
       "1  [0.146076, 0.55007, 0.460729, 0.424397, 0.3418...  \n",
       "2  [0.063898, 0.827439, 0.211925, 0.720297, 0.129...  \n",
       "3  [0.380539, 0.134683, 0.746891, 0.171604, 0.697...  \n",
       "4  [0.427258, 0.381448, 0.582746, 0.409475, 0.489...  "
      ]
     },
     "execution_count": 42,
     "metadata": {},
     "output_type": "execute_result"
    }
   ],
   "source": [
    "aesthetic_features = pd.merge(aesthetic_features_mean, aesthetic_features_median, on='video')\n",
    "aesthetic_features.head()"
   ]
  },
  {
   "cell_type": "code",
   "execution_count": 43,
   "metadata": {},
   "outputs": [],
   "source": [
    "# split train and test data\n",
    "aes_mean_X = np.stack(aesthetic_features['aesthetic_mean'].values)\n",
    "aes_mean_Y = labels[['short-term_memorability','long-term_memorability']].values\n",
    "aes_mean_X_train, aes_mean_X_test, aes_mean_Y_train, aes_mean_Y_test = train_test_split(aes_mean_X,aes_mean_Y, test_size=0.2, random_state=42)"
   ]
  },
  {
   "cell_type": "code",
   "execution_count": 44,
   "metadata": {},
   "outputs": [
    {
     "name": "stdout",
     "output_type": "stream",
     "text": [
      "The Spearman's correlation coefficient is: 0.286\n",
      "The Spearman's correlation coefficient is: 0.134\n"
     ]
    }
   ],
   "source": [
    "# built and train on aethetic mean features(SECOND RUN)\n",
    "aes_mean_clf = RandomForestRegressor()\n",
    "aes_mean_clf.fit(aes_mean_X_train,aes_mean_Y_train)\n",
    "pred_test_aes_mean = aes_mean_clf.predict(aes_mean_X_test)\n",
    "Get_score(pred_test_aes_mean, aes_mean_Y_test)"
   ]
  },
  {
   "cell_type": "code",
   "execution_count": 40,
   "metadata": {},
   "outputs": [
    {
     "name": "stdout",
     "output_type": "stream",
     "text": [
      "The Spearman's correlation coefficient is: 0.310\n",
      "The Spearman's correlation coefficient is: 0.133\n"
     ]
    }
   ],
   "source": [
    "# built and train on aethetic mean features(FIRST RUN)\n",
    "aes_mean_clf = RandomForestRegressor()\n",
    "aes_mean_clf.fit(aes_mean_X_train,aes_mean_Y_train)\n",
    "pred_test_aes_mean = aes_mean_clf.predict(aes_mean_X_test)\n",
    "Get_score(pred_test_aes_mean, aes_mean_Y_test)"
   ]
  },
  {
   "cell_type": "code",
   "execution_count": 45,
   "metadata": {},
   "outputs": [],
   "source": [
    "aes_median_X = np.stack(aesthetic_features['aesthetic_median'].values)\n",
    "aes_median_Y = labels[['short-term_memorability','long-term_memorability']].values\n",
    "aes_median_X_train, aes_median_X_test, aes_median_Y_train, aes_median_Y_test = train_test_split(aes_median_X,aes_median_Y, test_size=0.2, random_state=42)"
   ]
  },
  {
   "cell_type": "code",
   "execution_count": 46,
   "metadata": {},
   "outputs": [
    {
     "name": "stdout",
     "output_type": "stream",
     "text": [
      "The Spearman's correlation coefficient is: 0.312\n",
      "The Spearman's correlation coefficient is: 0.120\n"
     ]
    }
   ],
   "source": [
    "#built and train on aesthetic median features(SECOND RUN)\n",
    "from sklearn.ensemble import RandomForestRegressor\n",
    "aes_median_clf = RandomForestRegressor()\n",
    "aes_median_clf.fit(aes_median_X_train,aes_median_Y_train)\n",
    "pred_test_aes_median = aes_median_clf.predict(aes_median_X_test)\n",
    "Get_score(pred_test_aes_median, aes_median_Y_test)"
   ]
  },
  {
   "cell_type": "code",
   "execution_count": 45,
   "metadata": {},
   "outputs": [
    {
     "name": "stdout",
     "output_type": "stream",
     "text": [
      "The Spearman's correlation coefficient is: 0.303\n",
      "The Spearman's correlation coefficient is: 0.087\n"
     ]
    }
   ],
   "source": [
    "#built and train on aesthetic median features(FIRST RUN)\n",
    "from sklearn.ensemble import RandomForestRegressor\n",
    "aes_median_clf = RandomForestRegressor()\n",
    "aes_median_clf.fit(aes_median_X_train,aes_median_Y_train)\n",
    "pred_test_aes_median = aes_median_clf.predict(aes_median_X_test)\n",
    "Get_score(pred_test_aes_median, aes_median_Y_test)"
   ]
  },
  {
   "cell_type": "markdown",
   "metadata": {},
   "source": [
    "# InceptionV3"
   ]
  },
  {
   "cell_type": "markdown",
   "metadata": {},
   "source": [
    "They are three samples provided for each video for the InceptionV3 feature.I have extracted features for each of the samples and then built separate models for them to check if any one of them was significantly better than the other two. The results showed that all the models performed poorly  "
   ]
  },
  {
   "cell_type": "code",
   "execution_count": 21,
   "metadata": {},
   "outputs": [],
   "source": [
    "InceptionV3_path = 'C:/Users/i318517/Desktop/MSC/Machine Learning/CA684_Assignment/Dev-set/'\n",
    "InceptionV3_features_0 = pd.DataFrame({'video': vid,\n",
    "                   'InceptionV3': [read_InceptionV3(InceptionV3_path+'InceptionV3'+'/'+os.path.splitext(item)[0]) for item in vid],\n",
    "                       })"
   ]
  },
  {
   "cell_type": "code",
   "execution_count": 23,
   "metadata": {},
   "outputs": [],
   "source": [
    "InceptionV3_features_1 = pd.DataFrame({'video': vid,\n",
    "                   'InceptionV3': [read_InceptionV3(InceptionV3_path+'InceptionV3'+'/'+os.path.splitext(item)[0]) for item in vid],\n",
    "                       })"
   ]
  },
  {
   "cell_type": "code",
   "execution_count": 25,
   "metadata": {},
   "outputs": [],
   "source": [
    "InceptionV3_features_2 = pd.DataFrame({'video': vid,\n",
    "                   'InceptionV3': [read_InceptionV3(InceptionV3_path+'InceptionV3'+'/'+os.path.splitext(item)[0]) for item in vid],\n",
    "                       })"
   ]
  },
  {
   "cell_type": "code",
   "execution_count": 26,
   "metadata": {},
   "outputs": [],
   "source": [
    "InceptionV3_features_0['length'] = InceptionV3_features_0['InceptionV3'].str.len()"
   ]
  },
  {
   "cell_type": "code",
   "execution_count": 27,
   "metadata": {},
   "outputs": [
    {
     "data": {
      "text/html": [
       "<div>\n",
       "<style scoped>\n",
       "    .dataframe tbody tr th:only-of-type {\n",
       "        vertical-align: middle;\n",
       "    }\n",
       "\n",
       "    .dataframe tbody tr th {\n",
       "        vertical-align: top;\n",
       "    }\n",
       "\n",
       "    .dataframe thead th {\n",
       "        text-align: right;\n",
       "    }\n",
       "</style>\n",
       "<table border=\"1\" class=\"dataframe\">\n",
       "  <thead>\n",
       "    <tr style=\"text-align: right;\">\n",
       "      <th></th>\n",
       "      <th>video</th>\n",
       "      <th>InceptionV3</th>\n",
       "      <th>length</th>\n",
       "    </tr>\n",
       "  </thead>\n",
       "  <tbody>\n",
       "    <tr>\n",
       "      <th>0</th>\n",
       "      <td>video3.webm</td>\n",
       "      <td>[1.090344e-12, 3.431364e-09, 8.189898e-13, 3.6...</td>\n",
       "      <td>6075</td>\n",
       "    </tr>\n",
       "    <tr>\n",
       "      <th>1</th>\n",
       "      <td>video4.webm</td>\n",
       "      <td>[0.0, 0.0, 0.0, 0.0, 0.0, 0.0, 0.0, 0.0, 0.0, ...</td>\n",
       "      <td>6075</td>\n",
       "    </tr>\n",
       "    <tr>\n",
       "      <th>2</th>\n",
       "      <td>video6.webm</td>\n",
       "      <td>[2.926813e-18, 3.022254e-19, 4.139101e-19, 2.9...</td>\n",
       "      <td>6075</td>\n",
       "    </tr>\n",
       "    <tr>\n",
       "      <th>3</th>\n",
       "      <td>video8.webm</td>\n",
       "      <td>[0.0, 0.0, 0.0, 0.0, 0.0, 0.0, 0.0, 0.0, 0.0, ...</td>\n",
       "      <td>6075</td>\n",
       "    </tr>\n",
       "    <tr>\n",
       "      <th>4</th>\n",
       "      <td>video10.webm</td>\n",
       "      <td>[0.0, 0.0, 0.0, 0.0, 0.0, 0.0, 0.0, 2.811053e-...</td>\n",
       "      <td>6075</td>\n",
       "    </tr>\n",
       "  </tbody>\n",
       "</table>\n",
       "</div>"
      ],
      "text/plain": [
       "          video                                        InceptionV3  length\n",
       "0   video3.webm  [1.090344e-12, 3.431364e-09, 8.189898e-13, 3.6...    6075\n",
       "1   video4.webm  [0.0, 0.0, 0.0, 0.0, 0.0, 0.0, 0.0, 0.0, 0.0, ...    6075\n",
       "2   video6.webm  [2.926813e-18, 3.022254e-19, 4.139101e-19, 2.9...    6075\n",
       "3   video8.webm  [0.0, 0.0, 0.0, 0.0, 0.0, 0.0, 0.0, 0.0, 0.0, ...    6075\n",
       "4  video10.webm  [0.0, 0.0, 0.0, 0.0, 0.0, 0.0, 0.0, 2.811053e-...    6075"
      ]
     },
     "execution_count": 27,
     "metadata": {},
     "output_type": "execute_result"
    }
   ],
   "source": [
    "InceptionV3_features_0.head()"
   ]
  },
  {
   "cell_type": "code",
   "execution_count": 28,
   "metadata": {},
   "outputs": [],
   "source": [
    "#split data into train and test for testing and validation purpose\n",
    "InceptionV3_0_X = np.stack(InceptionV3_features_0['InceptionV3'].values)\n",
    "InceptionV3_0_Y = labels[['short-term_memorability','long-term_memorability']].values\n",
    "InceptionV3_0_X_train, InceptionV3_0_X_test, InceptionV3_0_Y_train, InceptionV3_0_Y_test = train_test_split(InceptionV3_0_X,InceptionV3_0_Y, test_size=0.2, random_state=42)"
   ]
  },
  {
   "cell_type": "code",
   "execution_count": 29,
   "metadata": {},
   "outputs": [
    {
     "name": "stdout",
     "output_type": "stream",
     "text": [
      "The Spearman's correlation coefficient is: 0.037\n",
      "The Spearman's correlation coefficient is: 0.048\n"
     ]
    }
   ],
   "source": [
    "# train and predict for model trained with feature sample 0(SECOND RUN)\n",
    "InceptionV3_0_clf = RandomForestRegressor()\n",
    "InceptionV3_0_clf.fit(InceptionV3_0_X_train,InceptionV3_0_Y_train)\n",
    "pred_test_InceptionV3_0 = InceptionV3_0_clf.predict(InceptionV3_0_X_test)\n",
    "Get_score(pred_test_InceptionV3_0, InceptionV3_0_Y_test)"
   ]
  },
  {
   "cell_type": "code",
   "execution_count": 30,
   "metadata": {},
   "outputs": [],
   "source": [
    "InceptionV3_1_X = np.stack(InceptionV3_features_1['InceptionV3'].values)\n",
    "InceptionV3_1_Y = labels[['short-term_memorability','long-term_memorability']].values\n",
    "InceptionV3_1_X_train, InceptionV3_1_X_test, InceptionV3_1_Y_train, InceptionV3_1_Y_test = train_test_split(InceptionV3_1_X,InceptionV3_1_Y, test_size=0.2, random_state=42)"
   ]
  },
  {
   "cell_type": "code",
   "execution_count": 31,
   "metadata": {},
   "outputs": [
    {
     "name": "stdout",
     "output_type": "stream",
     "text": [
      "The Spearman's correlation coefficient is: 0.011\n",
      "The Spearman's correlation coefficient is: 0.028\n"
     ]
    }
   ],
   "source": [
    "## train and predict for model trained with feature sample 56 (SECOND RUN)\n",
    "InceptionV3_1_clf = RandomForestRegressor()\n",
    "InceptionV3_1_clf.fit(InceptionV3_1_X_train,InceptionV3_1_Y_train)\n",
    "pred_test_InceptionV3_1 = InceptionV3_1_clf.predict(InceptionV3_1_X_test)\n",
    "Get_score(pred_test_InceptionV3_1, InceptionV3_1_Y_test)"
   ]
  },
  {
   "cell_type": "code",
   "execution_count": 32,
   "metadata": {},
   "outputs": [],
   "source": [
    "InceptionV3_2_X = np.stack(InceptionV3_features_2['InceptionV3'].values)\n",
    "InceptionV3_2_Y = labels[['short-term_memorability','long-term_memorability']].values\n",
    "InceptionV3_2_X_train, InceptionV3_2_X_test, InceptionV3_2_Y_train, InceptionV3_2_Y_test = train_test_split(InceptionV3_2_X,InceptionV3_2_Y, test_size=0.2, random_state=42)"
   ]
  },
  {
   "cell_type": "code",
   "execution_count": 33,
   "metadata": {},
   "outputs": [
    {
     "name": "stdout",
     "output_type": "stream",
     "text": [
      "The Spearman's correlation coefficient is: 0.074\n",
      "The Spearman's correlation coefficient is: 0.045\n"
     ]
    }
   ],
   "source": [
    "### train and predict for model trained with feature sample 112(SECOND RUN)\n",
    "InceptionV3_2_clf = RandomForestRegressor()\n",
    "InceptionV3_2_clf.fit(InceptionV3_2_X_train,InceptionV3_2_Y_train)\n",
    "pred_test_InceptionV3_2 = InceptionV3_2_clf.predict(InceptionV3_2_X_test)\n",
    "Get_score(pred_test_InceptionV3_2, InceptionV3_2_Y_test)"
   ]
  },
  {
   "cell_type": "markdown",
   "metadata": {},
   "source": [
    "# Combining different features and building new models "
   ]
  },
  {
   "cell_type": "code",
   "execution_count": 34,
   "metadata": {},
   "outputs": [],
   "source": [
    "features = C3D_Features"
   ]
  },
  {
   "cell_type": "code",
   "execution_count": 35,
   "metadata": {},
   "outputs": [],
   "source": [
    "features =  pd.merge(features,HMP_Features, on='video')\n"
   ]
  },
  {
   "cell_type": "code",
   "execution_count": 47,
   "metadata": {},
   "outputs": [],
   "source": [
    "features = pd.merge(features,aesthetic_features,on='video')\n"
   ]
  },
  {
   "cell_type": "code",
   "execution_count": 48,
   "metadata": {},
   "outputs": [],
   "source": [
    "#merge all features\n",
    "features = pd.merge(features,InceptionV3_features_0,on='video')\n",
    "features = pd.merge(features,InceptionV3_features_1,on='video')\n",
    "features = pd.merge(features,InceptionV3_features_2,on='video')"
   ]
  },
  {
   "cell_type": "code",
   "execution_count": 49,
   "metadata": {},
   "outputs": [
    {
     "data": {
      "text/html": [
       "<div>\n",
       "<style scoped>\n",
       "    .dataframe tbody tr th:only-of-type {\n",
       "        vertical-align: middle;\n",
       "    }\n",
       "\n",
       "    .dataframe tbody tr th {\n",
       "        vertical-align: top;\n",
       "    }\n",
       "\n",
       "    .dataframe thead th {\n",
       "        text-align: right;\n",
       "    }\n",
       "</style>\n",
       "<table border=\"1\" class=\"dataframe\">\n",
       "  <thead>\n",
       "    <tr style=\"text-align: right;\">\n",
       "      <th></th>\n",
       "      <th>video</th>\n",
       "      <th>C3D</th>\n",
       "      <th>HMP</th>\n",
       "      <th>aesthetic_mean</th>\n",
       "      <th>aesthetic_median</th>\n",
       "      <th>InceptionV3_x</th>\n",
       "      <th>length</th>\n",
       "      <th>InceptionV3_y</th>\n",
       "      <th>InceptionV3</th>\n",
       "    </tr>\n",
       "  </thead>\n",
       "  <tbody>\n",
       "    <tr>\n",
       "      <th>0</th>\n",
       "      <td>video3.webm</td>\n",
       "      <td>[0.02024942, 0.0015778, 0.00082625, 0.00094509...</td>\n",
       "      <td>[0.125563, 0.024036, 0.000314, 0.0, 0.015864, ...</td>\n",
       "      <td>[0.18389, 0.713733, 0.202302, 0.610132, 0.1242...</td>\n",
       "      <td>[0.180874, 0.715626, 0.19893, 0.610453, 0.1216...</td>\n",
       "      <td>[1.090344e-12, 3.431364e-09, 8.189898e-13, 3.6...</td>\n",
       "      <td>6075</td>\n",
       "      <td>[1.090344e-12, 3.431364e-09, 8.189898e-13, 3.6...</td>\n",
       "      <td>[1.491811e-14, 1.161779e-14, 1.230763e-15, 1.4...</td>\n",
       "    </tr>\n",
       "    <tr>\n",
       "      <th>1</th>\n",
       "      <td>video4.webm</td>\n",
       "      <td>[0.000118, 0.00089075, 0.00018769, 4.543e-05, ...</td>\n",
       "      <td>[0.007526, 0.001421, 6.8e-05, 0.0, 0.001184, 0...</td>\n",
       "      <td>[0.147255, 0.550718, 0.460299, 0.424981, 0.341...</td>\n",
       "      <td>[0.146076, 0.55007, 0.460729, 0.424397, 0.3418...</td>\n",
       "      <td>[0.0, 0.0, 0.0, 0.0, 0.0, 0.0, 0.0, 0.0, 0.0, ...</td>\n",
       "      <td>6075</td>\n",
       "      <td>[0.0, 0.0, 0.0, 0.0, 0.0, 0.0, 0.0, 0.0, 0.0, ...</td>\n",
       "      <td>[0.0, 0.0, 0.0, 0.0, 0.0, 0.0, 0.0, 0.0, 0.0, ...</td>\n",
       "    </tr>\n",
       "    <tr>\n",
       "      <th>2</th>\n",
       "      <td>video6.webm</td>\n",
       "      <td>[0.01176522, 0.00074577, 0.00078353, 1.328e-05...</td>\n",
       "      <td>[0.109584, 0.018978, 0.000289, 0.0, 0.008774, ...</td>\n",
       "      <td>[0.063933, 0.826933, 0.214129, 0.719341, 0.130...</td>\n",
       "      <td>[0.063898, 0.827439, 0.211925, 0.720297, 0.129...</td>\n",
       "      <td>[2.926813e-18, 3.022254e-19, 4.139101e-19, 2.9...</td>\n",
       "      <td>6075</td>\n",
       "      <td>[2.926813e-18, 3.022254e-19, 4.139101e-19, 2.9...</td>\n",
       "      <td>[1.93123e-18, 5.784305e-21, 3.029372e-20, 2.83...</td>\n",
       "    </tr>\n",
       "    <tr>\n",
       "      <th>3</th>\n",
       "      <td>video8.webm</td>\n",
       "      <td>[0.00022343, 0.00016499, 7.35e-06, 1.615e-05, ...</td>\n",
       "      <td>[0.120431, 0.013561, 0.000277, 0.0, 0.018974, ...</td>\n",
       "      <td>[0.367527, 0.133869, 0.746074, 0.169317, 0.696...</td>\n",
       "      <td>[0.380539, 0.134683, 0.746891, 0.171604, 0.697...</td>\n",
       "      <td>[0.0, 0.0, 0.0, 0.0, 0.0, 0.0, 0.0, 0.0, 0.0, ...</td>\n",
       "      <td>6075</td>\n",
       "      <td>[0.0, 0.0, 0.0, 0.0, 0.0, 0.0, 0.0, 0.0, 0.0, ...</td>\n",
       "      <td>[0.0, 0.0, 0.0, 0.0, 0.0, 0.0, 0.0, 0.0, 0.0, ...</td>\n",
       "    </tr>\n",
       "    <tr>\n",
       "      <th>4</th>\n",
       "      <td>video10.webm</td>\n",
       "      <td>[9.006e-05, 0.00061494, 0.00343634, 0.00128092...</td>\n",
       "      <td>[0.005026, 0.001356, 5.5e-05, 0.0, 0.000665, 2...</td>\n",
       "      <td>[0.402878, 0.389358, 0.564687, 0.400378, 0.471...</td>\n",
       "      <td>[0.427258, 0.381448, 0.582746, 0.409475, 0.489...</td>\n",
       "      <td>[0.0, 0.0, 0.0, 0.0, 0.0, 0.0, 0.0, 2.811053e-...</td>\n",
       "      <td>6075</td>\n",
       "      <td>[0.0, 0.0, 0.0, 0.0, 0.0, 0.0, 0.0, 2.811053e-...</td>\n",
       "      <td>[9.209152e-35, 0.0, 0.0, 0.0, 2.733693e-31, 3....</td>\n",
       "    </tr>\n",
       "  </tbody>\n",
       "</table>\n",
       "</div>"
      ],
      "text/plain": [
       "          video                                                C3D  \\\n",
       "0   video3.webm  [0.02024942, 0.0015778, 0.00082625, 0.00094509...   \n",
       "1   video4.webm  [0.000118, 0.00089075, 0.00018769, 4.543e-05, ...   \n",
       "2   video6.webm  [0.01176522, 0.00074577, 0.00078353, 1.328e-05...   \n",
       "3   video8.webm  [0.00022343, 0.00016499, 7.35e-06, 1.615e-05, ...   \n",
       "4  video10.webm  [9.006e-05, 0.00061494, 0.00343634, 0.00128092...   \n",
       "\n",
       "                                                 HMP  \\\n",
       "0  [0.125563, 0.024036, 0.000314, 0.0, 0.015864, ...   \n",
       "1  [0.007526, 0.001421, 6.8e-05, 0.0, 0.001184, 0...   \n",
       "2  [0.109584, 0.018978, 0.000289, 0.0, 0.008774, ...   \n",
       "3  [0.120431, 0.013561, 0.000277, 0.0, 0.018974, ...   \n",
       "4  [0.005026, 0.001356, 5.5e-05, 0.0, 0.000665, 2...   \n",
       "\n",
       "                                      aesthetic_mean  \\\n",
       "0  [0.18389, 0.713733, 0.202302, 0.610132, 0.1242...   \n",
       "1  [0.147255, 0.550718, 0.460299, 0.424981, 0.341...   \n",
       "2  [0.063933, 0.826933, 0.214129, 0.719341, 0.130...   \n",
       "3  [0.367527, 0.133869, 0.746074, 0.169317, 0.696...   \n",
       "4  [0.402878, 0.389358, 0.564687, 0.400378, 0.471...   \n",
       "\n",
       "                                    aesthetic_median  \\\n",
       "0  [0.180874, 0.715626, 0.19893, 0.610453, 0.1216...   \n",
       "1  [0.146076, 0.55007, 0.460729, 0.424397, 0.3418...   \n",
       "2  [0.063898, 0.827439, 0.211925, 0.720297, 0.129...   \n",
       "3  [0.380539, 0.134683, 0.746891, 0.171604, 0.697...   \n",
       "4  [0.427258, 0.381448, 0.582746, 0.409475, 0.489...   \n",
       "\n",
       "                                       InceptionV3_x  length  \\\n",
       "0  [1.090344e-12, 3.431364e-09, 8.189898e-13, 3.6...    6075   \n",
       "1  [0.0, 0.0, 0.0, 0.0, 0.0, 0.0, 0.0, 0.0, 0.0, ...    6075   \n",
       "2  [2.926813e-18, 3.022254e-19, 4.139101e-19, 2.9...    6075   \n",
       "3  [0.0, 0.0, 0.0, 0.0, 0.0, 0.0, 0.0, 0.0, 0.0, ...    6075   \n",
       "4  [0.0, 0.0, 0.0, 0.0, 0.0, 0.0, 0.0, 2.811053e-...    6075   \n",
       "\n",
       "                                       InceptionV3_y  \\\n",
       "0  [1.090344e-12, 3.431364e-09, 8.189898e-13, 3.6...   \n",
       "1  [0.0, 0.0, 0.0, 0.0, 0.0, 0.0, 0.0, 0.0, 0.0, ...   \n",
       "2  [2.926813e-18, 3.022254e-19, 4.139101e-19, 2.9...   \n",
       "3  [0.0, 0.0, 0.0, 0.0, 0.0, 0.0, 0.0, 0.0, 0.0, ...   \n",
       "4  [0.0, 0.0, 0.0, 0.0, 0.0, 0.0, 0.0, 2.811053e-...   \n",
       "\n",
       "                                         InceptionV3  \n",
       "0  [1.491811e-14, 1.161779e-14, 1.230763e-15, 1.4...  \n",
       "1  [0.0, 0.0, 0.0, 0.0, 0.0, 0.0, 0.0, 0.0, 0.0, ...  \n",
       "2  [1.93123e-18, 5.784305e-21, 3.029372e-20, 2.83...  \n",
       "3  [0.0, 0.0, 0.0, 0.0, 0.0, 0.0, 0.0, 0.0, 0.0, ...  \n",
       "4  [9.209152e-35, 0.0, 0.0, 0.0, 2.733693e-31, 3....  "
      ]
     },
     "execution_count": 49,
     "metadata": {},
     "output_type": "execute_result"
    }
   ],
   "source": [
    "features.head()"
   ]
  },
  {
   "cell_type": "code",
   "execution_count": 50,
   "metadata": {},
   "outputs": [],
   "source": [
    "#stack the features onto separate arrays\n",
    "X1 = np.stack(features['C3D'].values)\n",
    "X2 = np.stack(features['HMP'].values)\n",
    "X3 = np.stack(features['aesthetic_mean'].values)\n",
    "X4 = np.stack(features['aesthetic_median'].values)\n",
    "X5 = np.stack(features['InceptionV3_x'].values)\n",
    "X6 = np.stack(features['InceptionV3_y'].values)\n",
    "X7 = np.stack(features['InceptionV3'].values)"
   ]
  },
  {
   "cell_type": "code",
   "execution_count": 161,
   "metadata": {},
   "outputs": [
    {
     "name": "stdout",
     "output_type": "stream",
     "text": [
      "(6000, 101)\n",
      "(6000, 6075)\n",
      "(6000, 109)\n",
      "(6000, 109)\n",
      "(6000, 6075)\n",
      "(6000, 6075)\n",
      "(6000, 6075)\n",
      "(6000, 6285)\n",
      "(6000, 24619)\n"
     ]
    }
   ],
   "source": [
    "print(X1.shape)\n",
    "print(X2.shape)\n",
    "print(X3.shape)\n",
    "print(X4.shape)\n",
    "print(X5.shape)\n",
    "print(X6.shape)\n",
    "print(X7.shape)\n",
    "print(X_1.shape)\n",
    "print(X_2.shape)"
   ]
  },
  {
   "cell_type": "markdown",
   "metadata": {},
   "source": [
    "Individual models trained on HMP ,C3D and aesthetic mean features gave better spearman scores. We combine the feature set and check if we are getting a better performance.First we combine HMP and C3D and we dont get a score that we can say in an improvement over the individually trained models.  "
   ]
  },
  {
   "cell_type": "code",
   "execution_count": 51,
   "metadata": {},
   "outputs": [],
   "source": [
    "#HMP and C3D features\n",
    "X = np.hstack((X1, X2))"
   ]
  },
  {
   "cell_type": "code",
   "execution_count": 54,
   "metadata": {},
   "outputs": [],
   "source": [
    "X_train, X_test, Y_train, Y_test = train_test_split(X,Y, test_size=0.2, random_state=42)"
   ]
  },
  {
   "cell_type": "code",
   "execution_count": 55,
   "metadata": {},
   "outputs": [
    {
     "name": "stdout",
     "output_type": "stream",
     "text": [
      "The Spearman's correlation coefficient is: 0.307\n",
      "The Spearman's correlation coefficient is: 0.129\n"
     ]
    }
   ],
   "source": [
    "#HMP and C3D (SECOND RUN)\n",
    "model1 = RandomForestRegressor()\n",
    "model1.fit(X_train,Y_train)\n",
    "pred_test_model1 = model1.predict(X_test)\n",
    "Get_score(pred_test_model1, Y_test)"
   ]
  },
  {
   "cell_type": "code",
   "execution_count": 150,
   "metadata": {},
   "outputs": [
    {
     "name": "stdout",
     "output_type": "stream",
     "text": [
      "The Spearman's correlation coefficient is: 0.319\n",
      "The Spearman's correlation coefficient is: 0.120\n"
     ]
    }
   ],
   "source": [
    "#HMP and C3D (FIRST RUN)\n",
    "model1 = RandomForestRegressor()\n",
    "model1.fit(X_train,Y_train)\n",
    "pred_test_model1 = model1.predict(X_test)\n",
    "Get_score(pred_test_model1, Y_test)"
   ]
  },
  {
   "cell_type": "markdown",
   "metadata": {},
   "source": [
    "We then combine the HMP, C3D and aesthetic mean features and train a new model on this new feature set. We see that both the short term and long term memorability scores have improved"
   ]
  },
  {
   "cell_type": "code",
   "execution_count": 56,
   "metadata": {},
   "outputs": [],
   "source": [
    "#HMP , C3D and aesthetic mean features\n",
    "X_1 = np.hstack((X,X3))"
   ]
  },
  {
   "cell_type": "code",
   "execution_count": 57,
   "metadata": {},
   "outputs": [],
   "source": [
    "X_train, X_test, Y_train, Y_test = train_test_split(X_1,Y, test_size=0.2, random_state=42)"
   ]
  },
  {
   "cell_type": "code",
   "execution_count": 58,
   "metadata": {},
   "outputs": [
    {
     "name": "stdout",
     "output_type": "stream",
     "text": [
      "The Spearman's correlation coefficient is: 0.316\n",
      "The Spearman's correlation coefficient is: 0.153\n"
     ]
    }
   ],
   "source": [
    "#HMP, C3D and Aesthetic mean (SECOND RUN)\n",
    "model2 = RandomForestRegressor()\n",
    "model2.fit(X_train,Y_train)\n",
    "pred_test_model2 = model2.predict(X_test)\n",
    "Get_score(pred_test_model2, Y_test)"
   ]
  },
  {
   "cell_type": "code",
   "execution_count": 157,
   "metadata": {},
   "outputs": [
    {
     "name": "stdout",
     "output_type": "stream",
     "text": [
      "The Spearman's correlation coefficient is: 0.336\n",
      "The Spearman's correlation coefficient is: 0.144\n"
     ]
    }
   ],
   "source": [
    "#HMP, C3D and Aesthetic mean (FISRT RUN)\n",
    "model2 = RandomForestRegressor()\n",
    "model2.fit(X_train,Y_train)\n",
    "pred_test_model2 = model2.predict(X_test)\n",
    "Get_score(pred_test_model2, Y_test)"
   ]
  },
  {
   "cell_type": "code",
   "execution_count": 116,
   "metadata": {},
   "outputs": [
    {
     "name": "stderr",
     "output_type": "stream",
     "text": [
      "c:\\users\\i318517\\desktop\\python\\lib\\site-packages\\seaborn\\distributions.py:2551: FutureWarning: `distplot` is a deprecated function and will be removed in a future version. Please adapt your code to use either `displot` (a figure-level function with similar flexibility) or `histplot` (an axes-level function for histograms).\n",
      "  warnings.warn(msg, FutureWarning)\n"
     ]
    },
    {
     "data": {
      "text/plain": [
       "<matplotlib.axes._subplots.AxesSubplot at 0x2656d278d88>"
      ]
     },
     "execution_count": 116,
     "metadata": {},
     "output_type": "execute_result"
    },
    {
     "data": {
      "image/png": "[encoded data removed]",
      "text/plain": [
       "<Figure size 432x288 with 1 Axes>"
      ]
     },
     "metadata": {
      "needs_background": "light"
     },
     "output_type": "display_data"
    }
   ],
   "source": [
    "sns.distplot(Y_test-pred_test_model2)"
   ]
  },
  {
   "cell_type": "code",
   "execution_count": 117,
   "metadata": {},
   "outputs": [
    {
     "data": {
      "text/plain": [
       "<matplotlib.collections.PathCollection at 0x2656d3ac2c8>"
      ]
     },
     "execution_count": 117,
     "metadata": {},
     "output_type": "execute_result"
    },
    {
     "data": {
      "image/png": "[encoded data removed]",
      "text/plain": [
       "<Figure size 432x288 with 1 Axes>"
      ]
     },
     "metadata": {
      "needs_background": "light"
     },
     "output_type": "display_data"
    }
   ],
   "source": [
    "plt.scatter(Y_test,pred_test_model2)"
   ]
  },
  {
   "cell_type": "markdown",
   "metadata": {},
   "source": [
    "Finally we combine all the features. The new model gives a much better score than other models for short term memorability but not such a good score for long term memorability. The best long term memorability was achieved by the model trained on feature set comprising of HMP , C3D and aesthetic mean features."
   ]
  },
  {
   "cell_type": "code",
   "execution_count": 59,
   "metadata": {},
   "outputs": [],
   "source": [
    "# All the features\n",
    "X_2 = np.hstack((X1,X2,X3,X4,X5,X6,X7))"
   ]
  },
  {
   "cell_type": "code",
   "execution_count": 61,
   "metadata": {},
   "outputs": [],
   "source": [
    "X_train, X_test, Y_train, Y_test = train_test_split(X_2,Y, test_size=0.2, random_state=42)"
   ]
  },
  {
   "cell_type": "code",
   "execution_count": 52,
   "metadata": {},
   "outputs": [],
   "source": [
    "Y = labels[['short-term_memorability','long-term_memorability']].values"
   ]
  },
  {
   "cell_type": "code",
   "execution_count": 62,
   "metadata": {},
   "outputs": [
    {
     "name": "stdout",
     "output_type": "stream",
     "text": [
      "The Spearman's correlation coefficient is: 0.330\n",
      "The Spearman's correlation coefficient is: 0.135\n"
     ]
    }
   ],
   "source": [
    "#HMP, C3D ,Aesthetic mean,Aesthetic mean, InceptionV3 all samples(SECOND RUN)\n",
    "model3 = RandomForestRegressor()\n",
    "model3.fit(X_train,Y_train)\n",
    "pred_test_model3 = model3.predict(X_test)\n",
    "Get_score(pred_test_model3, Y_test)"
   ]
  },
  {
   "cell_type": "code",
   "execution_count": 113,
   "metadata": {},
   "outputs": [
    {
     "name": "stdout",
     "output_type": "stream",
     "text": [
      "The Spearman's correlation coefficient is: 0.324\n",
      "The Spearman's correlation coefficient is: 0.132\n"
     ]
    }
   ],
   "source": [
    "#HMP, C3D ,Aesthetic mean,Aesthetic mean, InceptionV3 all samples(THIRD RUN)\n",
    "model3 = RandomForestRegressor()\n",
    "model3.fit(X_train,Y_train)\n",
    "pred_test_model3 = model3.predict(X_test)\n",
    "Get_score(pred_test_model3, Y_test)"
   ]
  },
  {
   "cell_type": "code",
   "execution_count": 163,
   "metadata": {},
   "outputs": [
    {
     "name": "stdout",
     "output_type": "stream",
     "text": [
      "The Spearman's correlation coefficient is: 0.352\n",
      "The Spearman's correlation coefficient is: 0.116\n"
     ]
    }
   ],
   "source": [
    "#HMP, C3D ,Aesthetic mean,Aesthetic mean, InceptionV3 all samples(FIRST RUN)\n",
    "model3 = RandomForestRegressor()\n",
    "model3.fit(X_train,Y_train)\n",
    "pred_test_model3 = model3.predict(X_test)\n",
    "Get_score(pred_test_model3, Y_test)"
   ]
  },
  {
   "cell_type": "code",
   "execution_count": 114,
   "metadata": {},
   "outputs": [
    {
     "name": "stderr",
     "output_type": "stream",
     "text": [
      "c:\\users\\i318517\\desktop\\python\\lib\\site-packages\\seaborn\\distributions.py:2551: FutureWarning: `distplot` is a deprecated function and will be removed in a future version. Please adapt your code to use either `displot` (a figure-level function with similar flexibility) or `histplot` (an axes-level function for histograms).\n",
      "  warnings.warn(msg, FutureWarning)\n"
     ]
    },
    {
     "data": {
      "text/plain": [
       "<matplotlib.axes._subplots.AxesSubplot at 0x2656d0bf7c8>"
      ]
     },
     "execution_count": 114,
     "metadata": {},
     "output_type": "execute_result"
    },
    {
     "data": {
      "image/png": "[encoded data removed]",
      "text/plain": [
       "<Figure size 432x288 with 1 Axes>"
      ]
     },
     "metadata": {
      "needs_background": "light"
     },
     "output_type": "display_data"
    }
   ],
   "source": [
    "import seaborn as sns\n",
    "sns.distplot(Y_test-pred_test_model3)"
   ]
  },
  {
   "cell_type": "code",
   "execution_count": 115,
   "metadata": {},
   "outputs": [
    {
     "data": {
      "text/plain": [
       "<matplotlib.collections.PathCollection at 0x2656d24b708>"
      ]
     },
     "execution_count": 115,
     "metadata": {},
     "output_type": "execute_result"
    },
    {
     "data": {
      "image/png": "[encoded data removed]",
      "text/plain": [
       "<Figure size 432x288 with 1 Axes>"
      ]
     },
     "metadata": {
      "needs_background": "light"
     },
     "output_type": "display_data"
    }
   ],
   "source": [
    "plt.scatter(Y_test,pred_test_model3)"
   ]
  },
  {
   "cell_type": "markdown",
   "metadata": {},
   "source": [
    "# Train models for final prediction of test data. Here we train models on the entire train dataset"
   ]
  },
  {
   "cell_type": "code",
   "execution_count": 63,
   "metadata": {},
   "outputs": [
    {
     "data": {
      "text/plain": [
       "RandomForestRegressor()"
      ]
     },
     "execution_count": 63,
     "metadata": {},
     "output_type": "execute_result"
    }
   ],
   "source": [
    "# model to long term memorability score - here we are using the C3D , HMP and Aesthetic mean features\n",
    "LTmodel = RandomForestRegressor()\n",
    "LTmodel.fit(X_1,Y)"
   ]
  },
  {
   "cell_type": "code",
   "execution_count": 64,
   "metadata": {},
   "outputs": [
    {
     "data": {
      "text/plain": [
       "RandomForestRegressor()"
      ]
     },
     "execution_count": 64,
     "metadata": {},
     "output_type": "execute_result"
    }
   ],
   "source": [
    "# model to predict short term memorability - here the feature set comprises of all the models\n",
    "STmodel = RandomForestRegressor()\n",
    "STmodel.fit(X_2,Y)"
   ]
  },
  {
   "cell_type": "markdown",
   "metadata": {},
   "source": [
    "# Hyper paramenter tuning"
   ]
  },
  {
   "cell_type": "markdown",
   "metadata": {},
   "source": [
    "I wanted to do hyperparameter tuning for model3(trained on all features) and model2(trained on HMP,C3D and aesthetic mean). It observed that when we create new models on the same feature set the Spearman score varied quite a bit for these models. This gave an indication that model performance could improve after Hyper Parameter Optimization.\n",
    "I used Randomized Search CV and it ran for more than 24 hours(probably because of the high number of features) and I had to kill the process as it was taking too much time. If I had more time I would want to compare the accuracy of my base models to randomized search models.Below are the steps for the execution of Hyper parameter tuning and comparison between base models and \n",
    "models trained with parameters from RandomizedSearchCV"
   ]
  },
  {
   "cell_type": "code",
   "execution_count": 165,
   "metadata": {},
   "outputs": [
    {
     "name": "stdout",
     "output_type": "stream",
     "text": [
      "{'n_estimators': [200, 400, 600, 800, 1000, 1200, 1400, 1600, 1800, 2000], 'max_features': ['auto', 'sqrt'], 'max_depth': [10, 20, 30, 40, 50, 60, 70, 80, 90, 100, 110, None], 'min_samples_split': [2, 5, 10], 'min_samples_leaf': [1, 2, 4], 'bootstrap': [True, False]}\n"
     ]
    }
   ],
   "source": [
    "from sklearn.model_selection import RandomizedSearchCV\n",
    "\n",
    "# Number of trees in random forest\n",
    "n_estimators = [int(x) for x in np.linspace(start = 200, stop = 2000, num = 10)]\n",
    "# Number of features to consider at every split\n",
    "max_features = ['auto', 'sqrt']\n",
    "# Maximum number of levels in tree\n",
    "max_depth = [int(x) for x in np.linspace(10, 110, num = 11)]\n",
    "max_depth.append(None)\n",
    "# Minimum number of samples required to split a node\n",
    "min_samples_split = [2, 5, 10]\n",
    "# Minimum number of samples required at each leaf node\n",
    "min_samples_leaf = [1, 2, 4]\n",
    "# Method of selecting samples for training each tree\n",
    "bootstrap = [True, False]\n",
    "\n",
    "# Create the random grid\n",
    "random_grid = {'n_estimators': n_estimators,\n",
    "               'max_features': max_features,\n",
    "               'max_depth': max_depth,\n",
    "               'min_samples_split': min_samples_split,\n",
    "               'min_samples_leaf': min_samples_leaf,\n",
    "               'bootstrap': bootstrap}\n",
    "\n",
    "print(random_grid)"
   ]
  },
  {
   "cell_type": "code",
   "execution_count": null,
   "metadata": {},
   "outputs": [
    {
     "name": "stdout",
     "output_type": "stream",
     "text": [
      "Fitting 3 folds for each of 100 candidates, totalling 300 fits\n"
     ]
    },
    {
     "name": "stderr",
     "output_type": "stream",
     "text": [
      "[Parallel(n_jobs=-1)]: Using backend LokyBackend with 4 concurrent workers.\n"
     ]
    }
   ],
   "source": [
    "#Using the random grid to search for the best hyperparameters\n",
    "#creating a base model to train\n",
    "rf = RandomForestRegressor()\n",
    "rf_random = RandomizedSearchCV(estimator = rf, param_distributions = random_grid, \n",
    "                               n_iter = 100, cv = 3, verbose=2, random_state=42, n_jobs = -1)\n",
    "# Fit the random search model\n",
    "rf_random.fit(X_train, Y_train)"
   ]
  },
  {
   "cell_type": "code",
   "execution_count": null,
   "metadata": {},
   "outputs": [],
   "source": [
    "#display best params\n",
    "rf_random.best_params_"
   ]
  },
  {
   "cell_type": "code",
   "execution_count": null,
   "metadata": {},
   "outputs": [],
   "source": [
    "def evaluate(model, test_features, test_labels):\n",
    "    predictions = model.predict(test_features)\n",
    "    errors = abs(predictions - test_labels)\n",
    "    mape = 100 * np.mean(errors / test_labels)\n",
    "    accuracy = 100 - mape\n",
    "    print('Model Performance')\n",
    "    print('Average Error: {:0.4f} degrees.'.format(np.mean(errors)))\n",
    "    print('Accuracy = {:0.2f}%.'.format(accuracy))\n",
    "    \n",
    "    return accuracy"
   ]
  },
  {
   "cell_type": "code",
   "execution_count": null,
   "metadata": {},
   "outputs": [],
   "source": [
    "#get the accuracy for the model without hyper paramenter turing\n",
    "base_accuracy = evaluate(model3, X_test, Y_test)"
   ]
  },
  {
   "cell_type": "code",
   "execution_count": null,
   "metadata": {},
   "outputs": [],
   "source": [
    "#get accuracy of model with hyper paramenter tuning\n",
    "best_random = rf_random.best_estimator_\n",
    "random_accuracy = evaluate(best_random, X_test, X_test)"
   ]
  },
  {
   "cell_type": "code",
   "execution_count": null,
   "metadata": {},
   "outputs": [],
   "source": [
    "#check for improvement after hyperparameter tuning\n",
    "print('Improvement of {:0.2f}%.'.format( 100 * (random_accuracy - base_accuracy) / base_accuracy))"
   ]
  },
  {
   "cell_type": "markdown",
   "metadata": {},
   "source": [
    "# get test-set features\n"
   ]
  },
  {
   "cell_type": "code",
   "execution_count": 65,
   "metadata": {},
   "outputs": [
    {
     "data": {
      "text/html": [
       "<div>\n",
       "<style scoped>\n",
       "    .dataframe tbody tr th:only-of-type {\n",
       "        vertical-align: middle;\n",
       "    }\n",
       "\n",
       "    .dataframe tbody tr th {\n",
       "        vertical-align: top;\n",
       "    }\n",
       "\n",
       "    .dataframe thead th {\n",
       "        text-align: right;\n",
       "    }\n",
       "</style>\n",
       "<table border=\"1\" class=\"dataframe\">\n",
       "  <thead>\n",
       "    <tr style=\"text-align: right;\">\n",
       "      <th></th>\n",
       "      <th>video</th>\n",
       "      <th>short-term_memorability</th>\n",
       "      <th>nb_short-term_annotations</th>\n",
       "      <th>long-term_memorability</th>\n",
       "      <th>nb_long-term_annotations</th>\n",
       "    </tr>\n",
       "  </thead>\n",
       "  <tbody>\n",
       "    <tr>\n",
       "      <th>0</th>\n",
       "      <td>7494</td>\n",
       "      <td>NaN</td>\n",
       "      <td>33</td>\n",
       "      <td>NaN</td>\n",
       "      <td>12</td>\n",
       "    </tr>\n",
       "    <tr>\n",
       "      <th>1</th>\n",
       "      <td>7495</td>\n",
       "      <td>NaN</td>\n",
       "      <td>34</td>\n",
       "      <td>NaN</td>\n",
       "      <td>10</td>\n",
       "    </tr>\n",
       "    <tr>\n",
       "      <th>2</th>\n",
       "      <td>7496</td>\n",
       "      <td>NaN</td>\n",
       "      <td>32</td>\n",
       "      <td>NaN</td>\n",
       "      <td>13</td>\n",
       "    </tr>\n",
       "    <tr>\n",
       "      <th>3</th>\n",
       "      <td>7497</td>\n",
       "      <td>NaN</td>\n",
       "      <td>33</td>\n",
       "      <td>NaN</td>\n",
       "      <td>10</td>\n",
       "    </tr>\n",
       "    <tr>\n",
       "      <th>4</th>\n",
       "      <td>7498</td>\n",
       "      <td>NaN</td>\n",
       "      <td>33</td>\n",
       "      <td>NaN</td>\n",
       "      <td>10</td>\n",
       "    </tr>\n",
       "  </tbody>\n",
       "</table>\n",
       "</div>"
      ],
      "text/plain": [
       "   video  short-term_memorability  nb_short-term_annotations  \\\n",
       "0   7494                      NaN                         33   \n",
       "1   7495                      NaN                         34   \n",
       "2   7496                      NaN                         32   \n",
       "3   7497                      NaN                         33   \n",
       "4   7498                      NaN                         33   \n",
       "\n",
       "   long-term_memorability  nb_long-term_annotations  \n",
       "0                     NaN                        12  \n",
       "1                     NaN                        10  \n",
       "2                     NaN                        13  \n",
       "3                     NaN                        10  \n",
       "4                     NaN                        10  "
      ]
     },
     "execution_count": 65,
     "metadata": {},
     "output_type": "execute_result"
    }
   ],
   "source": [
    "ground_truth_file = 'C:\\\\Users\\\\i318517\\\\Desktop\\\\MSC\\\\Machine Learning\\\\CA684_Assignment\\\\Test-set\\\\Ground-truth_test\\\\ground_truth_template.csv'\n",
    "#ground_truth_file = r\"C:\\Users\\i318517\\Desktop\\MSC\\Machine Learning\\CA684_Assignment\\Dev-set\\Ground-truth\\ground-truth_dev-set.csv\"\n",
    "test_video_labels = pd.read_csv(ground_truth_file)\n",
    "test_video_labels.head()"
   ]
  },
  {
   "cell_type": "code",
   "execution_count": 66,
   "metadata": {},
   "outputs": [
    {
     "data": {
      "text/plain": [
       "video                          int64\n",
       "short-term_memorability      float64\n",
       "nb_short-term_annotations      int64\n",
       "long-term_memorability       float64\n",
       "nb_long-term_annotations       int64\n",
       "dtype: object"
      ]
     },
     "execution_count": 66,
     "metadata": {},
     "output_type": "execute_result"
    }
   ],
   "source": [
    "test_video_labels.dtypes"
   ]
  },
  {
   "cell_type": "code",
   "execution_count": 67,
   "metadata": {},
   "outputs": [],
   "source": [
    "test_video_labels['video'] = test_video_labels['video'].astype(str)"
   ]
  },
  {
   "cell_type": "code",
   "execution_count": 68,
   "metadata": {},
   "outputs": [],
   "source": [
    "test_vid = test_video_labels.video.values"
   ]
  },
  {
   "cell_type": "code",
   "execution_count": 69,
   "metadata": {},
   "outputs": [],
   "source": [
    "C3D_Feat_path_test = 'C:/Users/i318517/Desktop/MSC/Machine Learning/CA684_Assignment/Test-set/'\n",
    "C3D_Features_test = pd.DataFrame({'video': test_vid,\n",
    "                   'C3D': [read_C3D(C3D_Feat_path_test+'C3D_test'+'/'+ 'video' + \n",
    "                                    os.path.splitext(item)[0]+'.txt') for item in test_vid],\n",
    "                       })"
   ]
  },
  {
   "cell_type": "code",
   "execution_count": 70,
   "metadata": {},
   "outputs": [
    {
     "data": {
      "text/html": [
       "<div>\n",
       "<style scoped>\n",
       "    .dataframe tbody tr th:only-of-type {\n",
       "        vertical-align: middle;\n",
       "    }\n",
       "\n",
       "    .dataframe tbody tr th {\n",
       "        vertical-align: top;\n",
       "    }\n",
       "\n",
       "    .dataframe thead th {\n",
       "        text-align: right;\n",
       "    }\n",
       "</style>\n",
       "<table border=\"1\" class=\"dataframe\">\n",
       "  <thead>\n",
       "    <tr style=\"text-align: right;\">\n",
       "      <th></th>\n",
       "      <th>video</th>\n",
       "      <th>C3D</th>\n",
       "    </tr>\n",
       "  </thead>\n",
       "  <tbody>\n",
       "    <tr>\n",
       "      <th>0</th>\n",
       "      <td>7494</td>\n",
       "      <td>[0.00013576, 0.0002133, 0.00124759, 1.149e-05,...</td>\n",
       "    </tr>\n",
       "    <tr>\n",
       "      <th>1</th>\n",
       "      <td>7495</td>\n",
       "      <td>[0.00012659, 2.377e-05, 0.04950115, 2.418e-05,...</td>\n",
       "    </tr>\n",
       "    <tr>\n",
       "      <th>2</th>\n",
       "      <td>7496</td>\n",
       "      <td>[0.48898152, 0.00058536, 2.454e-05, 0.00016031...</td>\n",
       "    </tr>\n",
       "    <tr>\n",
       "      <th>3</th>\n",
       "      <td>7497</td>\n",
       "      <td>[0.24925078, 0.00101763, 8.02e-06, 1.92e-05, 2...</td>\n",
       "    </tr>\n",
       "    <tr>\n",
       "      <th>4</th>\n",
       "      <td>7498</td>\n",
       "      <td>[0.00989415, 3.413e-05, 0.00261261, 2.1e-06, 1...</td>\n",
       "    </tr>\n",
       "  </tbody>\n",
       "</table>\n",
       "</div>"
      ],
      "text/plain": [
       "  video                                                C3D\n",
       "0  7494  [0.00013576, 0.0002133, 0.00124759, 1.149e-05,...\n",
       "1  7495  [0.00012659, 2.377e-05, 0.04950115, 2.418e-05,...\n",
       "2  7496  [0.48898152, 0.00058536, 2.454e-05, 0.00016031...\n",
       "3  7497  [0.24925078, 0.00101763, 8.02e-06, 1.92e-05, 2...\n",
       "4  7498  [0.00989415, 3.413e-05, 0.00261261, 2.1e-06, 1..."
      ]
     },
     "execution_count": 70,
     "metadata": {},
     "output_type": "execute_result"
    }
   ],
   "source": [
    "C3D_Features_test.head()"
   ]
  },
  {
   "cell_type": "code",
   "execution_count": 71,
   "metadata": {},
   "outputs": [
    {
     "data": {
      "text/plain": [
       "(2000, 2)"
      ]
     },
     "execution_count": 71,
     "metadata": {},
     "output_type": "execute_result"
    }
   ],
   "source": [
    "C3D_Features_test.shape"
   ]
  },
  {
   "cell_type": "code",
   "execution_count": 72,
   "metadata": {},
   "outputs": [],
   "source": [
    "HMP_Feat_path_test = 'C:/Users/i318517/Desktop/MSC/Machine Learning/CA684_Assignment/Test-set/'\n",
    "HMP_Features_test = pd.DataFrame({'video': test_vid,\n",
    "                   'HMP': [read_HMP(HMP_Feat_path_test+'HMP_test'+'/'+'video' + os.path.splitext(item)[0]+'.txt') for item in test_vid],\n",
    "                       })"
   ]
  },
  {
   "cell_type": "code",
   "execution_count": 73,
   "metadata": {},
   "outputs": [
    {
     "data": {
      "text/html": [
       "<div>\n",
       "<style scoped>\n",
       "    .dataframe tbody tr th:only-of-type {\n",
       "        vertical-align: middle;\n",
       "    }\n",
       "\n",
       "    .dataframe tbody tr th {\n",
       "        vertical-align: top;\n",
       "    }\n",
       "\n",
       "    .dataframe thead th {\n",
       "        text-align: right;\n",
       "    }\n",
       "</style>\n",
       "<table border=\"1\" class=\"dataframe\">\n",
       "  <thead>\n",
       "    <tr style=\"text-align: right;\">\n",
       "      <th></th>\n",
       "      <th>video</th>\n",
       "      <th>HMP</th>\n",
       "    </tr>\n",
       "  </thead>\n",
       "  <tbody>\n",
       "    <tr>\n",
       "      <th>0</th>\n",
       "      <td>7494</td>\n",
       "      <td>[0.022039, 0.005264, 9.8e-05, 0.0, 0.003689, 0...</td>\n",
       "    </tr>\n",
       "    <tr>\n",
       "      <th>1</th>\n",
       "      <td>7495</td>\n",
       "      <td>[0.004694, 0.001934, 4e-05, 0.0, 0.001226, 5.8...</td>\n",
       "    </tr>\n",
       "    <tr>\n",
       "      <th>2</th>\n",
       "      <td>7496</td>\n",
       "      <td>[0.02653, 0.006208, 5.8e-05, 0.0, 0.00228, 3.1...</td>\n",
       "    </tr>\n",
       "    <tr>\n",
       "      <th>3</th>\n",
       "      <td>7497</td>\n",
       "      <td>[0.045109, 0.008317, 0.000151, 0.0, 0.005598, ...</td>\n",
       "    </tr>\n",
       "    <tr>\n",
       "      <th>4</th>\n",
       "      <td>7498</td>\n",
       "      <td>[0.034691, 0.008619, 0.000412, 0.0, 0.028355, ...</td>\n",
       "    </tr>\n",
       "  </tbody>\n",
       "</table>\n",
       "</div>"
      ],
      "text/plain": [
       "  video                                                HMP\n",
       "0  7494  [0.022039, 0.005264, 9.8e-05, 0.0, 0.003689, 0...\n",
       "1  7495  [0.004694, 0.001934, 4e-05, 0.0, 0.001226, 5.8...\n",
       "2  7496  [0.02653, 0.006208, 5.8e-05, 0.0, 0.00228, 3.1...\n",
       "3  7497  [0.045109, 0.008317, 0.000151, 0.0, 0.005598, ...\n",
       "4  7498  [0.034691, 0.008619, 0.000412, 0.0, 0.028355, ..."
      ]
     },
     "execution_count": 73,
     "metadata": {},
     "output_type": "execute_result"
    }
   ],
   "source": [
    "HMP_Features_test.head()"
   ]
  },
  {
   "cell_type": "code",
   "execution_count": 74,
   "metadata": {},
   "outputs": [],
   "source": [
    "aesthetic_path_test = 'C:/Users/i318517/Desktop/MSC/Machine Learning/CA684_Assignment/Test-set/aesthetic_vis_features_test/'\n",
    "aesthetic_features_mean_test = pd.DataFrame({'video': test_vid,\n",
    "                   'aesthetic_mean': [read_aesthetic_features(aesthetic_path_test+'mean'+'/'+ 'video' + os.path.splitext(item)[0]+'.txt') for item in test_vid],\n",
    "                       })\n",
    "\n",
    "aesthetic_features_median_test = pd.DataFrame({'video': test_vid,\n",
    "                   'aesthetic_median': [read_aesthetic_features(aesthetic_path_test+'median'+'/'+ 'video' +os.path.splitext(item)[0]+'.txt') for item in test_vid],\n",
    "                       })\n"
   ]
  },
  {
   "cell_type": "code",
   "execution_count": 75,
   "metadata": {},
   "outputs": [
    {
     "data": {
      "text/html": [
       "<div>\n",
       "<style scoped>\n",
       "    .dataframe tbody tr th:only-of-type {\n",
       "        vertical-align: middle;\n",
       "    }\n",
       "\n",
       "    .dataframe tbody tr th {\n",
       "        vertical-align: top;\n",
       "    }\n",
       "\n",
       "    .dataframe thead th {\n",
       "        text-align: right;\n",
       "    }\n",
       "</style>\n",
       "<table border=\"1\" class=\"dataframe\">\n",
       "  <thead>\n",
       "    <tr style=\"text-align: right;\">\n",
       "      <th></th>\n",
       "      <th>video</th>\n",
       "      <th>aesthetic_mean</th>\n",
       "    </tr>\n",
       "  </thead>\n",
       "  <tbody>\n",
       "    <tr>\n",
       "      <th>0</th>\n",
       "      <td>7494</td>\n",
       "      <td>[0.15188, 0.435622, 0.385821, 0.324642, 0.3163...</td>\n",
       "    </tr>\n",
       "    <tr>\n",
       "      <th>1</th>\n",
       "      <td>7495</td>\n",
       "      <td>[0.346129, 0.39686, 0.518731, 0.417674, 0.4222...</td>\n",
       "    </tr>\n",
       "    <tr>\n",
       "      <th>2</th>\n",
       "      <td>7496</td>\n",
       "      <td>[0.126344, 0.225354, 0.479295, 0.172265, 0.432...</td>\n",
       "    </tr>\n",
       "    <tr>\n",
       "      <th>3</th>\n",
       "      <td>7497</td>\n",
       "      <td>[0.217836, 0.338128, 0.633791, 0.245464, 0.529...</td>\n",
       "    </tr>\n",
       "    <tr>\n",
       "      <th>4</th>\n",
       "      <td>7498</td>\n",
       "      <td>[0.436468, 0.292819, 0.4736, 0.270421, 0.40387...</td>\n",
       "    </tr>\n",
       "  </tbody>\n",
       "</table>\n",
       "</div>"
      ],
      "text/plain": [
       "  video                                     aesthetic_mean\n",
       "0  7494  [0.15188, 0.435622, 0.385821, 0.324642, 0.3163...\n",
       "1  7495  [0.346129, 0.39686, 0.518731, 0.417674, 0.4222...\n",
       "2  7496  [0.126344, 0.225354, 0.479295, 0.172265, 0.432...\n",
       "3  7497  [0.217836, 0.338128, 0.633791, 0.245464, 0.529...\n",
       "4  7498  [0.436468, 0.292819, 0.4736, 0.270421, 0.40387..."
      ]
     },
     "execution_count": 75,
     "metadata": {},
     "output_type": "execute_result"
    }
   ],
   "source": [
    "aesthetic_features_mean_test.head()"
   ]
  },
  {
   "cell_type": "code",
   "execution_count": 76,
   "metadata": {},
   "outputs": [
    {
     "data": {
      "text/html": [
       "<div>\n",
       "<style scoped>\n",
       "    .dataframe tbody tr th:only-of-type {\n",
       "        vertical-align: middle;\n",
       "    }\n",
       "\n",
       "    .dataframe tbody tr th {\n",
       "        vertical-align: top;\n",
       "    }\n",
       "\n",
       "    .dataframe thead th {\n",
       "        text-align: right;\n",
       "    }\n",
       "</style>\n",
       "<table border=\"1\" class=\"dataframe\">\n",
       "  <thead>\n",
       "    <tr style=\"text-align: right;\">\n",
       "      <th></th>\n",
       "      <th>video</th>\n",
       "      <th>aesthetic_median</th>\n",
       "    </tr>\n",
       "  </thead>\n",
       "  <tbody>\n",
       "    <tr>\n",
       "      <th>0</th>\n",
       "      <td>7494</td>\n",
       "      <td>[0.151128, 0.428798, 0.388939, 0.319523, 0.319...</td>\n",
       "    </tr>\n",
       "    <tr>\n",
       "      <th>1</th>\n",
       "      <td>7495</td>\n",
       "      <td>[0.351501, 0.38728, 0.52406, 0.410809, 0.42906...</td>\n",
       "    </tr>\n",
       "    <tr>\n",
       "      <th>2</th>\n",
       "      <td>7496</td>\n",
       "      <td>[0.126592, 0.225055, 0.479929, 0.172715, 0.432...</td>\n",
       "    </tr>\n",
       "    <tr>\n",
       "      <th>3</th>\n",
       "      <td>7497</td>\n",
       "      <td>[0.218887, 0.337801, 0.633643, 0.245733, 0.529...</td>\n",
       "    </tr>\n",
       "    <tr>\n",
       "      <th>4</th>\n",
       "      <td>7498</td>\n",
       "      <td>[0.438498, 0.290777, 0.474659, 0.267142, 0.403...</td>\n",
       "    </tr>\n",
       "  </tbody>\n",
       "</table>\n",
       "</div>"
      ],
      "text/plain": [
       "  video                                   aesthetic_median\n",
       "0  7494  [0.151128, 0.428798, 0.388939, 0.319523, 0.319...\n",
       "1  7495  [0.351501, 0.38728, 0.52406, 0.410809, 0.42906...\n",
       "2  7496  [0.126592, 0.225055, 0.479929, 0.172715, 0.432...\n",
       "3  7497  [0.218887, 0.337801, 0.633643, 0.245733, 0.529...\n",
       "4  7498  [0.438498, 0.290777, 0.474659, 0.267142, 0.403..."
      ]
     },
     "execution_count": 76,
     "metadata": {},
     "output_type": "execute_result"
    }
   ],
   "source": [
    "aesthetic_features_median_test.head()"
   ]
  },
  {
   "cell_type": "code",
   "execution_count": 83,
   "metadata": {},
   "outputs": [],
   "source": [
    "#read InceptionV3 features\n",
    "def read_InceptionV3(fname):\n",
    "    \"\"\"Scan features from file\"\"\"\n",
    "    #fname = fname + '-0' + '.txt' # extract the first sample\n",
    "    #fname = fname + '-56' + '.txt' # extract the second sample\n",
    "    fname = fname + '-112' + '.txt' #extract the third sample\n",
    "    with open(fname) as f:\n",
    "        for line in f:\n",
    "            pairs=line.split()\n",
    "            IV3_temp = { int(p.split(':')[0]) : float(p.split(':')[1]) for p in pairs}\n",
    "    # there are 6075 bins, fill zeros\n",
    "    IV3 = np.zeros(6075)\n",
    "    for idx in IV3_temp.keys():\n",
    "        IV3[idx-1] = IV3_temp[idx]            \n",
    "    return IV3"
   ]
  },
  {
   "cell_type": "code",
   "execution_count": 78,
   "metadata": {},
   "outputs": [],
   "source": [
    "InceptionV3_path_test = 'C:/Users/i318517/Desktop/MSC/Machine Learning/CA684_Assignment/Test-set/'\n",
    "\n",
    "InceptionV3_features_0_test = pd.DataFrame({'video': test_vid,\n",
    "                   'InceptionV3_0': [read_InceptionV3(InceptionV3_path_test+'Inception_test'+'/'+ 'video' +os.path.splitext(item)[0]) for item in test_vid],\n",
    "                       })\n",
    "\n"
   ]
  },
  {
   "cell_type": "code",
   "execution_count": 80,
   "metadata": {},
   "outputs": [
    {
     "data": {
      "text/html": [
       "<div>\n",
       "<style scoped>\n",
       "    .dataframe tbody tr th:only-of-type {\n",
       "        vertical-align: middle;\n",
       "    }\n",
       "\n",
       "    .dataframe tbody tr th {\n",
       "        vertical-align: top;\n",
       "    }\n",
       "\n",
       "    .dataframe thead th {\n",
       "        text-align: right;\n",
       "    }\n",
       "</style>\n",
       "<table border=\"1\" class=\"dataframe\">\n",
       "  <thead>\n",
       "    <tr style=\"text-align: right;\">\n",
       "      <th></th>\n",
       "      <th>video</th>\n",
       "      <th>InceptionV3_0</th>\n",
       "    </tr>\n",
       "  </thead>\n",
       "  <tbody>\n",
       "    <tr>\n",
       "      <th>0</th>\n",
       "      <td>7494</td>\n",
       "      <td>[6.507684e-26, 9.451245e-23, 3.503505e-24, 7.4...</td>\n",
       "    </tr>\n",
       "    <tr>\n",
       "      <th>1</th>\n",
       "      <td>7495</td>\n",
       "      <td>[0.0, 0.0, 0.0, 0.0, 0.0, 0.0, 0.0, 0.0, 0.0, ...</td>\n",
       "    </tr>\n",
       "    <tr>\n",
       "      <th>2</th>\n",
       "      <td>7496</td>\n",
       "      <td>[0.0, 0.0, 0.0, 0.0, 0.0, 0.0, 0.0, 0.0, 0.0, ...</td>\n",
       "    </tr>\n",
       "    <tr>\n",
       "      <th>3</th>\n",
       "      <td>7497</td>\n",
       "      <td>[0.0, 0.0, 0.0, 0.0, 0.0, 0.0, 0.0, 0.0, 0.0, ...</td>\n",
       "    </tr>\n",
       "    <tr>\n",
       "      <th>4</th>\n",
       "      <td>7498</td>\n",
       "      <td>[0.0, 0.0, 0.0, 0.0, 0.0, 0.0, 0.0, 0.0, 0.0, ...</td>\n",
       "    </tr>\n",
       "  </tbody>\n",
       "</table>\n",
       "</div>"
      ],
      "text/plain": [
       "  video                                      InceptionV3_0\n",
       "0  7494  [6.507684e-26, 9.451245e-23, 3.503505e-24, 7.4...\n",
       "1  7495  [0.0, 0.0, 0.0, 0.0, 0.0, 0.0, 0.0, 0.0, 0.0, ...\n",
       "2  7496  [0.0, 0.0, 0.0, 0.0, 0.0, 0.0, 0.0, 0.0, 0.0, ...\n",
       "3  7497  [0.0, 0.0, 0.0, 0.0, 0.0, 0.0, 0.0, 0.0, 0.0, ...\n",
       "4  7498  [0.0, 0.0, 0.0, 0.0, 0.0, 0.0, 0.0, 0.0, 0.0, ..."
      ]
     },
     "execution_count": 80,
     "metadata": {},
     "output_type": "execute_result"
    }
   ],
   "source": [
    "InceptionV3_features_0_test.head()"
   ]
  },
  {
   "cell_type": "code",
   "execution_count": 81,
   "metadata": {},
   "outputs": [],
   "source": [
    "InceptionV3_features_1_test = pd.DataFrame({'video': test_vid,\n",
    "                   'InceptionV3_1': [read_InceptionV3(InceptionV3_path_test+'Inception_test'+'/'+ 'video' +os.path.splitext(item)[0]) for item in test_vid],\n",
    "                       })\n"
   ]
  },
  {
   "cell_type": "code",
   "execution_count": 82,
   "metadata": {},
   "outputs": [
    {
     "data": {
      "text/html": [
       "<div>\n",
       "<style scoped>\n",
       "    .dataframe tbody tr th:only-of-type {\n",
       "        vertical-align: middle;\n",
       "    }\n",
       "\n",
       "    .dataframe tbody tr th {\n",
       "        vertical-align: top;\n",
       "    }\n",
       "\n",
       "    .dataframe thead th {\n",
       "        text-align: right;\n",
       "    }\n",
       "</style>\n",
       "<table border=\"1\" class=\"dataframe\">\n",
       "  <thead>\n",
       "    <tr style=\"text-align: right;\">\n",
       "      <th></th>\n",
       "      <th>video</th>\n",
       "      <th>InceptionV3_1</th>\n",
       "    </tr>\n",
       "  </thead>\n",
       "  <tbody>\n",
       "    <tr>\n",
       "      <th>0</th>\n",
       "      <td>7494</td>\n",
       "      <td>[7.820061e-26, 4.141834e-23, 4.825725e-27, 8.9...</td>\n",
       "    </tr>\n",
       "    <tr>\n",
       "      <th>1</th>\n",
       "      <td>7495</td>\n",
       "      <td>[0.0, 0.0, 0.0, 0.0, 0.0, 0.0, 0.0, 0.0, 0.0, ...</td>\n",
       "    </tr>\n",
       "    <tr>\n",
       "      <th>2</th>\n",
       "      <td>7496</td>\n",
       "      <td>[0.0, 0.0, 0.0, 0.0, 0.0, 0.0, 0.0, 0.0, 0.0, ...</td>\n",
       "    </tr>\n",
       "    <tr>\n",
       "      <th>3</th>\n",
       "      <td>7497</td>\n",
       "      <td>[0.0, 0.0, 0.0, 0.0, 0.0, 0.0, 0.0, 0.0, 0.0, ...</td>\n",
       "    </tr>\n",
       "    <tr>\n",
       "      <th>4</th>\n",
       "      <td>7498</td>\n",
       "      <td>[0.0, 0.0, 0.0, 0.0, 0.0, 0.0, 0.0, 0.0, 0.0, ...</td>\n",
       "    </tr>\n",
       "  </tbody>\n",
       "</table>\n",
       "</div>"
      ],
      "text/plain": [
       "  video                                      InceptionV3_1\n",
       "0  7494  [7.820061e-26, 4.141834e-23, 4.825725e-27, 8.9...\n",
       "1  7495  [0.0, 0.0, 0.0, 0.0, 0.0, 0.0, 0.0, 0.0, 0.0, ...\n",
       "2  7496  [0.0, 0.0, 0.0, 0.0, 0.0, 0.0, 0.0, 0.0, 0.0, ...\n",
       "3  7497  [0.0, 0.0, 0.0, 0.0, 0.0, 0.0, 0.0, 0.0, 0.0, ...\n",
       "4  7498  [0.0, 0.0, 0.0, 0.0, 0.0, 0.0, 0.0, 0.0, 0.0, ..."
      ]
     },
     "execution_count": 82,
     "metadata": {},
     "output_type": "execute_result"
    }
   ],
   "source": [
    "InceptionV3_features_1_test.head()"
   ]
  },
  {
   "cell_type": "code",
   "execution_count": 84,
   "metadata": {},
   "outputs": [],
   "source": [
    "\n",
    "InceptionV3_features_2_test = pd.DataFrame({'video': test_vid,\n",
    "                   'InceptionV3_2': [read_InceptionV3(InceptionV3_path_test+'Inception_test'+'/'+ 'video' +os.path.splitext(item)[0]) for item in test_vid],\n",
    "                       })"
   ]
  },
  {
   "cell_type": "code",
   "execution_count": 85,
   "metadata": {},
   "outputs": [
    {
     "data": {
      "text/html": [
       "<div>\n",
       "<style scoped>\n",
       "    .dataframe tbody tr th:only-of-type {\n",
       "        vertical-align: middle;\n",
       "    }\n",
       "\n",
       "    .dataframe tbody tr th {\n",
       "        vertical-align: top;\n",
       "    }\n",
       "\n",
       "    .dataframe thead th {\n",
       "        text-align: right;\n",
       "    }\n",
       "</style>\n",
       "<table border=\"1\" class=\"dataframe\">\n",
       "  <thead>\n",
       "    <tr style=\"text-align: right;\">\n",
       "      <th></th>\n",
       "      <th>video</th>\n",
       "      <th>InceptionV3_2</th>\n",
       "    </tr>\n",
       "  </thead>\n",
       "  <tbody>\n",
       "    <tr>\n",
       "      <th>0</th>\n",
       "      <td>7494</td>\n",
       "      <td>[3.274185e-29, 2.647296e-25, 8.844853e-29, 3.4...</td>\n",
       "    </tr>\n",
       "    <tr>\n",
       "      <th>1</th>\n",
       "      <td>7495</td>\n",
       "      <td>[0.0, 0.0, 0.0, 0.0, 0.0, 0.0, 0.0, 0.0, 0.0, ...</td>\n",
       "    </tr>\n",
       "    <tr>\n",
       "      <th>2</th>\n",
       "      <td>7496</td>\n",
       "      <td>[0.0, 0.0, 0.0, 0.0, 0.0, 0.0, 0.0, 0.0, 0.0, ...</td>\n",
       "    </tr>\n",
       "    <tr>\n",
       "      <th>3</th>\n",
       "      <td>7497</td>\n",
       "      <td>[0.0, 0.0, 0.0, 0.0, 0.0, 0.0, 0.0, 0.0, 0.0, ...</td>\n",
       "    </tr>\n",
       "    <tr>\n",
       "      <th>4</th>\n",
       "      <td>7498</td>\n",
       "      <td>[0.0, 0.0, 0.0, 0.0, 0.0, 0.0, 0.0, 0.0, 0.0, ...</td>\n",
       "    </tr>\n",
       "  </tbody>\n",
       "</table>\n",
       "</div>"
      ],
      "text/plain": [
       "  video                                      InceptionV3_2\n",
       "0  7494  [3.274185e-29, 2.647296e-25, 8.844853e-29, 3.4...\n",
       "1  7495  [0.0, 0.0, 0.0, 0.0, 0.0, 0.0, 0.0, 0.0, 0.0, ...\n",
       "2  7496  [0.0, 0.0, 0.0, 0.0, 0.0, 0.0, 0.0, 0.0, 0.0, ...\n",
       "3  7497  [0.0, 0.0, 0.0, 0.0, 0.0, 0.0, 0.0, 0.0, 0.0, ...\n",
       "4  7498  [0.0, 0.0, 0.0, 0.0, 0.0, 0.0, 0.0, 0.0, 0.0, ..."
      ]
     },
     "execution_count": 85,
     "metadata": {},
     "output_type": "execute_result"
    }
   ],
   "source": [
    "InceptionV3_features_2_test.head()"
   ]
  },
  {
   "cell_type": "code",
   "execution_count": 86,
   "metadata": {},
   "outputs": [],
   "source": [
    "A = np.stack(C3D_Features_test['C3D'].values)\n",
    "B = np.stack(HMP_Features_test['HMP'].values)\n",
    "C = np.stack(aesthetic_features_mean_test['aesthetic_mean'].values)\n",
    "D = np.stack(aesthetic_features_median_test['aesthetic_median'].values)\n",
    "E = np.stack(InceptionV3_features_0_test['InceptionV3_0'].values)\n",
    "F = np.stack(InceptionV3_features_1_test['InceptionV3_1'].values)\n",
    "G = np.stack(InceptionV3_features_2_test['InceptionV3_2'].values)"
   ]
  },
  {
   "cell_type": "code",
   "execution_count": 87,
   "metadata": {},
   "outputs": [],
   "source": [
    "# stack all features use the model trained on all the features which will be used to predict  short term memorability\n",
    "x_test = np.hstack((A,B,C,D,E,F,G))"
   ]
  },
  {
   "cell_type": "code",
   "execution_count": 88,
   "metadata": {},
   "outputs": [],
   "source": [
    "# stack HMP, C3D and aesthetic mean test features which will be used to predict long term memorability\n",
    "x_test2 = np.hstack((A,B,C))"
   ]
  },
  {
   "cell_type": "markdown",
   "metadata": {},
   "source": [
    "# Prediction for Test Data"
   ]
  },
  {
   "cell_type": "code",
   "execution_count": 89,
   "metadata": {},
   "outputs": [],
   "source": [
    "# predict memorabilty using model 'STmodel'. The short term memorability prediction of this model\n",
    "#will be used for the submission\n",
    "pred1  = STmodel.predict(x_test)"
   ]
  },
  {
   "cell_type": "code",
   "execution_count": 97,
   "metadata": {},
   "outputs": [],
   "source": [
    "mem_scores =pd.DataFrame()"
   ]
  },
  {
   "cell_type": "code",
   "execution_count": 98,
   "metadata": {},
   "outputs": [],
   "source": [
    "mem_scores['short_term_memorability'] = pred1[:,0]"
   ]
  },
  {
   "cell_type": "code",
   "execution_count": 91,
   "metadata": {},
   "outputs": [],
   "source": [
    "# predict memorabilty using model 'LTmodel'. The long term memorability prediction of this model\n",
    "#will be used for thesubmission\n",
    "pred2 = LTmodel.predict(x_test2)"
   ]
  },
  {
   "cell_type": "code",
   "execution_count": 102,
   "metadata": {},
   "outputs": [],
   "source": [
    "mem_scores['long_term_memorability'] = pred2[:,1]"
   ]
  },
  {
   "cell_type": "code",
   "execution_count": 105,
   "metadata": {},
   "outputs": [
    {
     "data": {
      "text/html": [
       "<div>\n",
       "<style scoped>\n",
       "    .dataframe tbody tr th:only-of-type {\n",
       "        vertical-align: middle;\n",
       "    }\n",
       "\n",
       "    .dataframe tbody tr th {\n",
       "        vertical-align: top;\n",
       "    }\n",
       "\n",
       "    .dataframe thead th {\n",
       "        text-align: right;\n",
       "    }\n",
       "</style>\n",
       "<table border=\"1\" class=\"dataframe\">\n",
       "  <thead>\n",
       "    <tr style=\"text-align: right;\">\n",
       "      <th></th>\n",
       "      <th>short_term_memorability</th>\n",
       "      <th>long_term_memorability</th>\n",
       "    </tr>\n",
       "  </thead>\n",
       "  <tbody>\n",
       "    <tr>\n",
       "      <th>0</th>\n",
       "      <td>0.85835</td>\n",
       "      <td>0.78044</td>\n",
       "    </tr>\n",
       "    <tr>\n",
       "      <th>1</th>\n",
       "      <td>0.81544</td>\n",
       "      <td>0.79011</td>\n",
       "    </tr>\n",
       "    <tr>\n",
       "      <th>2</th>\n",
       "      <td>0.87274</td>\n",
       "      <td>0.75221</td>\n",
       "    </tr>\n",
       "    <tr>\n",
       "      <th>3</th>\n",
       "      <td>0.88702</td>\n",
       "      <td>0.80068</td>\n",
       "    </tr>\n",
       "    <tr>\n",
       "      <th>4</th>\n",
       "      <td>0.84078</td>\n",
       "      <td>0.77894</td>\n",
       "    </tr>\n",
       "  </tbody>\n",
       "</table>\n",
       "</div>"
      ],
      "text/plain": [
       "   short_term_memorability  long_term_memorability\n",
       "0                  0.85835                 0.78044\n",
       "1                  0.81544                 0.79011\n",
       "2                  0.87274                 0.75221\n",
       "3                  0.88702                 0.80068\n",
       "4                  0.84078                 0.77894"
      ]
     },
     "execution_count": 105,
     "metadata": {},
     "output_type": "execute_result"
    }
   ],
   "source": [
    "mem_scores.head()"
   ]
  },
  {
   "cell_type": "code",
   "execution_count": 106,
   "metadata": {},
   "outputs": [
    {
     "data": {
      "text/plain": [
       "(2000, 2)"
      ]
     },
     "execution_count": 106,
     "metadata": {},
     "output_type": "execute_result"
    }
   ],
   "source": [
    "mem_scores.shape"
   ]
  },
  {
   "cell_type": "code",
   "execution_count": 107,
   "metadata": {},
   "outputs": [
    {
     "data": {
      "text/plain": [
       "Index(['video', 'short-term_memorability', 'nb_short-term_annotations',\n",
       "       'long-term_memorability', 'nb_long-term_annotations'],\n",
       "      dtype='object')"
      ]
     },
     "execution_count": 107,
     "metadata": {},
     "output_type": "execute_result"
    }
   ],
   "source": [
    "test_video_labels.columns"
   ]
  },
  {
   "cell_type": "code",
   "execution_count": 108,
   "metadata": {},
   "outputs": [],
   "source": [
    "test_video_labels['short-term_memorability'] = mem_scores['short_term_memorability']\n",
    "test_video_labels['long-term_memorability'] = mem_scores['long_term_memorability']"
   ]
  },
  {
   "cell_type": "code",
   "execution_count": 109,
   "metadata": {},
   "outputs": [],
   "source": [
    "#create submission file with short term and long term memorability predictions\n",
    "test_video_labels.to_csv('Kushagra_Srivastava_20214989_predictions.csv')"
   ]
  },
  {
   "cell_type": "code",
   "execution_count": 111,
   "metadata": {},
   "outputs": [],
   "source": [
    "import pickle\n",
    "filename1 = 'STmodel.sav'\n",
    "pickle.dump(STmodel, open(filename1, 'wb'))"
   ]
  },
  {
   "cell_type": "code",
   "execution_count": 112,
   "metadata": {},
   "outputs": [],
   "source": [
    "filename2 = 'LTmodel.sav'\n",
    "pickle.dump(LTmodel, open(filename2, 'wb'))"
   ]
  }
 ],
 "metadata": {
  "kernelspec": {
   "display_name": "Python 3",
   "language": "python",
   "name": "python3"
  },
  "language_info": {
   "codemirror_mode": {
    "name": "ipython",
    "version": 3
   },
   "file_extension": ".py",
   "mimetype": "text/x-python",
   "name": "python",
   "nbconvert_exporter": "python",
   "pygments_lexer": "ipython3",
   "version": "3.7.4"
  }
 },
 "nbformat": 4,
 "nbformat_minor": 4
}
